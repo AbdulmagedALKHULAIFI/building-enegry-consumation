{
 "cells": [
  {
   "cell_type": "markdown",
   "metadata": {},
   "source": [
    "# Projet 2\n",
    "### Analyser des données de systèmes educatifs\n",
    "Date de la soutenance  :  04/11/2020\n",
    "## Problématique\n",
    "\n",
    "Aider l'entreprise Academy dans son expansion à l'international dans le domaine E-learning. Le public cible de l'entreprise est les lycéens et les étudiants universitaires.\n",
    "\n",
    "\n",
    "## Mission\n",
    "\n",
    "Aider l'entreprise à prendre des décisions cruciales sur l'ouverture vers nouveaux pays en proposant une étude fiable de potentiel de marché en traitant un jeu de données fournie par la banque mondiale. Pour ce faire, il faut : \n",
    "\n",
    "- Préparer une liste de pays avec fort potentiel de clients \n",
    "- Estimer l'évolution de ce potentiel pour chacun de ces pays\n",
    "- prioriser cette liste afin de lancer le projet\n",
    "\n",
    "\n",
    "## Compétences évaluées\n",
    "\n",
    "- Manipuler des données avec des librairies spécialisées\n",
    "- Effectuer une représentation graphique à l'aide d'une librairie Python adaptée\n",
    "- Utiliser un notebook Jupyter pour faciliter la rédaction du code et la collaboration\n",
    "- Maîtriser les opérations fondamentales du langage Python pour la Data Science\n",
    "- Mettre en place un environnement Python\n"
   ]
  },
  {
   "cell_type": "markdown",
   "metadata": {},
   "source": [
    "# 1  Description des données de la banque mondiale\n",
    "\n",
    "Nous commençons par décrire les données fournies et expliquer ses contenus: \n"
   ]
  },
  {
   "cell_type": "code",
   "execution_count": 1,
   "metadata": {},
   "outputs": [],
   "source": [
    "# import de librairies utiles\n",
    "import pandas as pd\n",
    "import os\n",
    "import seaborn as sns\n",
    "import matplotlib.pyplot as plt\n",
    "import numpy as np\n",
    "from scipy.stats import skew\n",
    "from scipy.stats import kurtosis \n",
    "from datetime import datetime\n",
    "from numpy import nanmean\n",
    "from statistics import *\n",
    "from pandas.plotting import scatter_matrix\n",
    "from functools import reduce\n",
    "from scipy.stats import pearsonr"
   ]
  },
  {
   "cell_type": "code",
   "execution_count": 2,
   "metadata": {},
   "outputs": [],
   "source": [
    "# import des datasets\n",
    "Country = pd.read_csv(r'D:\\docs\\OpenClassrooms\\P02\\Data\\EdStatsCountry.csv',error_bad_lines=False,encoding='latin-1')\n",
    "StatsData = pd.read_csv(r'D:\\docs\\OpenClassrooms\\P02\\Data\\EdStatsData.csv')\n",
    "Country_Series = pd.read_csv(r'D:\\docs\\OpenClassrooms\\P02\\Data\\EdStatsCountry-Series.csv')\n",
    "Series = pd.read_csv(r'D:\\docs\\OpenClassrooms\\P02\\Data\\EdStatsSeries.csv')\n",
    "FootNote = pd.read_csv(r'D:\\docs\\OpenClassrooms\\P02\\Data\\EdStatsFootNote.csv')\n"
   ]
  },
  {
   "cell_type": "markdown",
   "metadata": {},
   "source": [
    "### 1. a le fichier EdStatsCountry.csv"
   ]
  },
  {
   "cell_type": "markdown",
   "metadata": {},
   "source": [
    "Ce fichier contient une liste des pays et des regions, avec des informations imporatantes comme le pourcentage de dépenses des gouvernement en éductation, les salaires annuels en dollars des professeurs dans chaque pays, le taux de l'analphabétisme ...etc"
   ]
  },
  {
   "cell_type": "code",
   "execution_count": 8,
   "metadata": {},
   "outputs": [
    {
     "data": {
      "text/html": [
       "<div>\n",
       "<style scoped>\n",
       "    .dataframe tbody tr th:only-of-type {\n",
       "        vertical-align: middle;\n",
       "    }\n",
       "\n",
       "    .dataframe tbody tr th {\n",
       "        vertical-align: top;\n",
       "    }\n",
       "\n",
       "    .dataframe thead th {\n",
       "        text-align: right;\n",
       "    }\n",
       "</style>\n",
       "<table border=\"1\" class=\"dataframe\">\n",
       "  <thead>\n",
       "    <tr style=\"text-align: right;\">\n",
       "      <th></th>\n",
       "      <th>Country Code</th>\n",
       "      <th>Short Name</th>\n",
       "      <th>Table Name</th>\n",
       "      <th>Long Name</th>\n",
       "      <th>2-alpha code</th>\n",
       "      <th>Currency Unit</th>\n",
       "      <th>Special Notes</th>\n",
       "      <th>Region</th>\n",
       "      <th>Income Group</th>\n",
       "      <th>WB-2 code</th>\n",
       "      <th>...</th>\n",
       "      <th>Government Accounting concept</th>\n",
       "      <th>IMF data dissemination standard</th>\n",
       "      <th>Latest population census</th>\n",
       "      <th>Latest household survey</th>\n",
       "      <th>Source of most recent Income and expenditure data</th>\n",
       "      <th>Vital registration complete</th>\n",
       "      <th>Latest agricultural census</th>\n",
       "      <th>Latest industrial data</th>\n",
       "      <th>Latest trade data</th>\n",
       "      <th>Latest water withdrawal data</th>\n",
       "    </tr>\n",
       "  </thead>\n",
       "  <tbody>\n",
       "    <tr>\n",
       "      <th>180</th>\n",
       "      <td>QAT</td>\n",
       "      <td>Qatar</td>\n",
       "      <td>Qatar</td>\n",
       "      <td>State of Qatar</td>\n",
       "      <td>QA</td>\n",
       "      <td>Qatari riyal</td>\n",
       "      <td>NaN</td>\n",
       "      <td>Middle East &amp; North Africa</td>\n",
       "      <td>High income: nonOECD</td>\n",
       "      <td>QA</td>\n",
       "      <td>...</td>\n",
       "      <td>Budgetary central government</td>\n",
       "      <td>General Data Dissemination System (GDDS)</td>\n",
       "      <td>2010</td>\n",
       "      <td>Multiple Indicator Cluster Survey (MICS), 2012</td>\n",
       "      <td>NaN</td>\n",
       "      <td>Yes</td>\n",
       "      <td>NaN</td>\n",
       "      <td>2010.0</td>\n",
       "      <td>2012.0</td>\n",
       "      <td>2005</td>\n",
       "    </tr>\n",
       "    <tr>\n",
       "      <th>130</th>\n",
       "      <td>LUX</td>\n",
       "      <td>Luxembourg</td>\n",
       "      <td>Luxembourg</td>\n",
       "      <td>Grand Duchy of Luxembourg</td>\n",
       "      <td>LU</td>\n",
       "      <td>Euro</td>\n",
       "      <td>A simple multiplier is used to convert the nat...</td>\n",
       "      <td>Europe &amp; Central Asia</td>\n",
       "      <td>High income: OECD</td>\n",
       "      <td>LU</td>\n",
       "      <td>...</td>\n",
       "      <td>Consolidated central government</td>\n",
       "      <td>Special Data Dissemination Standard (SDDS)</td>\n",
       "      <td>2011</td>\n",
       "      <td>NaN</td>\n",
       "      <td>NaN</td>\n",
       "      <td>Yes</td>\n",
       "      <td>2010</td>\n",
       "      <td>2009.0</td>\n",
       "      <td>2012.0</td>\n",
       "      <td>1999</td>\n",
       "    </tr>\n",
       "    <tr>\n",
       "      <th>222</th>\n",
       "      <td>UMC</td>\n",
       "      <td>Upper middle income</td>\n",
       "      <td>Upper middle income</td>\n",
       "      <td>Upper middle income</td>\n",
       "      <td>XT</td>\n",
       "      <td>NaN</td>\n",
       "      <td>Upper middle income group aggregate. Upper-mid...</td>\n",
       "      <td>NaN</td>\n",
       "      <td>NaN</td>\n",
       "      <td>XT</td>\n",
       "      <td>...</td>\n",
       "      <td>NaN</td>\n",
       "      <td>NaN</td>\n",
       "      <td>NaN</td>\n",
       "      <td>NaN</td>\n",
       "      <td>NaN</td>\n",
       "      <td>NaN</td>\n",
       "      <td>NaN</td>\n",
       "      <td>NaN</td>\n",
       "      <td>NaN</td>\n",
       "      <td>NaN</td>\n",
       "    </tr>\n",
       "  </tbody>\n",
       "</table>\n",
       "<p>3 rows × 31 columns</p>\n",
       "</div>"
      ],
      "text/plain": [
       "    Country Code           Short Name           Table Name  \\\n",
       "180          QAT                Qatar                Qatar   \n",
       "130          LUX           Luxembourg           Luxembourg   \n",
       "222          UMC  Upper middle income  Upper middle income   \n",
       "\n",
       "                     Long Name 2-alpha code Currency Unit  \\\n",
       "180             State of Qatar           QA  Qatari riyal   \n",
       "130  Grand Duchy of Luxembourg           LU          Euro   \n",
       "222        Upper middle income           XT           NaN   \n",
       "\n",
       "                                         Special Notes  \\\n",
       "180                                                NaN   \n",
       "130  A simple multiplier is used to convert the nat...   \n",
       "222  Upper middle income group aggregate. Upper-mid...   \n",
       "\n",
       "                         Region          Income Group WB-2 code  ...  \\\n",
       "180  Middle East & North Africa  High income: nonOECD        QA  ...   \n",
       "130       Europe & Central Asia     High income: OECD        LU  ...   \n",
       "222                         NaN                   NaN        XT  ...   \n",
       "\n",
       "       Government Accounting concept  \\\n",
       "180     Budgetary central government   \n",
       "130  Consolidated central government   \n",
       "222                              NaN   \n",
       "\n",
       "                IMF data dissemination standard Latest population census  \\\n",
       "180    General Data Dissemination System (GDDS)                     2010   \n",
       "130  Special Data Dissemination Standard (SDDS)                     2011   \n",
       "222                                         NaN                      NaN   \n",
       "\n",
       "                            Latest household survey  \\\n",
       "180  Multiple Indicator Cluster Survey (MICS), 2012   \n",
       "130                                             NaN   \n",
       "222                                             NaN   \n",
       "\n",
       "    Source of most recent Income and expenditure data  \\\n",
       "180                                               NaN   \n",
       "130                                               NaN   \n",
       "222                                               NaN   \n",
       "\n",
       "    Vital registration complete Latest agricultural census  \\\n",
       "180                         Yes                        NaN   \n",
       "130                         Yes                       2010   \n",
       "222                         NaN                        NaN   \n",
       "\n",
       "    Latest industrial data Latest trade data Latest water withdrawal data  \n",
       "180                 2010.0            2012.0                         2005  \n",
       "130                 2009.0            2012.0                         1999  \n",
       "222                    NaN               NaN                          NaN  \n",
       "\n",
       "[3 rows x 31 columns]"
      ]
     },
     "execution_count": 8,
     "metadata": {},
     "output_type": "execute_result"
    }
   ],
   "source": [
    "# On affiche quelques lignes tirées aléatoirmeent\n",
    "Country.sample(3)"
   ]
  },
  {
   "cell_type": "code",
   "execution_count": 9,
   "metadata": {},
   "outputs": [
    {
     "data": {
      "text/plain": [
       "(238, 31)"
      ]
     },
     "execution_count": 9,
     "metadata": {},
     "output_type": "execute_result"
    }
   ],
   "source": [
    "# on affiche le nb de lignes et de colonne\n",
    "Country.shape"
   ]
  },
  {
   "cell_type": "code",
   "execution_count": 10,
   "metadata": {},
   "outputs": [
    {
     "data": {
      "text/plain": [
       "7378"
      ]
     },
     "execution_count": 10,
     "metadata": {},
     "output_type": "execute_result"
    }
   ],
   "source": [
    "Country.size"
   ]
  },
  {
   "cell_type": "code",
   "execution_count": 11,
   "metadata": {},
   "outputs": [
    {
     "data": {
      "text/plain": [
       "2041"
      ]
     },
     "execution_count": 11,
     "metadata": {},
     "output_type": "execute_result"
    }
   ],
   "source": [
    "# Ici on calcule le nombre de valeurs manquantes\n",
    "Country.isna().sum().sum()"
   ]
  },
  {
   "cell_type": "code",
   "execution_count": 3,
   "metadata": {},
   "outputs": [
    {
     "data": {
      "text/plain": [
       "Europe & Central Asia         57\n",
       "Sub-Saharan Africa            48\n",
       "Latin America & Caribbean     41\n",
       "East Asia & Pacific           36\n",
       "Middle East & North Africa    21\n",
       "South Asia                     8\n",
       "North America                  3\n",
       "Name: Region, dtype: int64"
      ]
     },
     "execution_count": 3,
     "metadata": {},
     "output_type": "execute_result"
    }
   ],
   "source": [
    "# affiche la repartition du fichier selon la colonne 'Region'\n",
    "Country['Region'].value_counts()"
   ]
  },
  {
   "cell_type": "code",
   "execution_count": 4,
   "metadata": {
    "scrolled": true
   },
   "outputs": [
    {
     "data": {
      "text/plain": [
       "Text(0.5, 1.0, 'Repartion des pays par region')"
      ]
     },
     "execution_count": 4,
     "metadata": {},
     "output_type": "execute_result"
    },
    {
     "data": {
      "image/png": "[encoded data removed]",
      "text/plain": [
       "<Figure size 432x288 with 1 Axes>"
      ]
     },
     "metadata": {},
     "output_type": "display_data"
    }
   ],
   "source": [
    "# Une autre façon plus sympa de voir le resultat\n",
    "Country['Region'].value_counts().plot(kind='pie')\n",
    "plt.title('Repartion des pays par region')"
   ]
  },
  {
   "cell_type": "code",
   "execution_count": 14,
   "metadata": {},
   "outputs": [],
   "source": [
    "# Une fonction qui nous retourne des informations importantes comme le nombre de colonnes, nombre de lignes d'une datasets \n",
    "def decrire_dataset (fichier) :\n",
    "    Nb_ligne = fichier.shape[0]\n",
    "    Nb_colonne = fichier.shape[1]\n",
    "    Taille = fichier.size\n",
    "    Pct_Nan = round(fichier.isna().sum().sum()/fichier.size*100,0)\n",
    "    print(\"Le fichier est de taille {} avec {} lignes et {} colonnes. Le fichier contient {} % devaleurs manquantes \".format(Taille, Nb_ligne, Nb_colonne, Pct_Nan ))"
   ]
  },
  {
   "cell_type": "code",
   "execution_count": 15,
   "metadata": {},
   "outputs": [
    {
     "name": "stdout",
     "output_type": "stream",
     "text": [
      "Le fichier est de taille 7378 avec 238 lignes et 31 colonnes. Le fichier contient 28.0 % devaleurs manquantes \n"
     ]
    }
   ],
   "source": [
    "decrire_dataset(Country)"
   ]
  },
  {
   "cell_type": "markdown",
   "metadata": {},
   "source": [
    "### 1. b le fichier EdStatsData.csv"
   ]
  },
  {
   "cell_type": "markdown",
   "metadata": {},
   "source": [
    "Ce fichier décris les informations importantes telles le taux de scolarisations au différent cycle scolaires, le taux de population analphabète dans différents tranche d'age ...etc\n"
   ]
  },
  {
   "cell_type": "code",
   "execution_count": 16,
   "metadata": {},
   "outputs": [
    {
     "data": {
      "text/html": [
       "<div>\n",
       "<style scoped>\n",
       "    .dataframe tbody tr th:only-of-type {\n",
       "        vertical-align: middle;\n",
       "    }\n",
       "\n",
       "    .dataframe tbody tr th {\n",
       "        vertical-align: top;\n",
       "    }\n",
       "\n",
       "    .dataframe thead th {\n",
       "        text-align: right;\n",
       "    }\n",
       "</style>\n",
       "<table border=\"1\" class=\"dataframe\">\n",
       "  <thead>\n",
       "    <tr style=\"text-align: right;\">\n",
       "      <th></th>\n",
       "      <th>Country Name</th>\n",
       "      <th>Country Code</th>\n",
       "      <th>Indicator Name</th>\n",
       "      <th>Indicator Code</th>\n",
       "      <th>1970</th>\n",
       "      <th>1971</th>\n",
       "      <th>1972</th>\n",
       "      <th>1973</th>\n",
       "      <th>1974</th>\n",
       "      <th>1975</th>\n",
       "      <th>...</th>\n",
       "      <th>2060</th>\n",
       "      <th>2065</th>\n",
       "      <th>2070</th>\n",
       "      <th>2075</th>\n",
       "      <th>2080</th>\n",
       "      <th>2085</th>\n",
       "      <th>2090</th>\n",
       "      <th>2095</th>\n",
       "      <th>2100</th>\n",
       "      <th>Unnamed: 69</th>\n",
       "    </tr>\n",
       "  </thead>\n",
       "  <tbody>\n",
       "    <tr>\n",
       "      <th>0</th>\n",
       "      <td>Arab World</td>\n",
       "      <td>ARB</td>\n",
       "      <td>Adjusted net enrolment rate, lower secondary, ...</td>\n",
       "      <td>UIS.NERA.2</td>\n",
       "      <td>NaN</td>\n",
       "      <td>NaN</td>\n",
       "      <td>NaN</td>\n",
       "      <td>NaN</td>\n",
       "      <td>NaN</td>\n",
       "      <td>NaN</td>\n",
       "      <td>...</td>\n",
       "      <td>NaN</td>\n",
       "      <td>NaN</td>\n",
       "      <td>NaN</td>\n",
       "      <td>NaN</td>\n",
       "      <td>NaN</td>\n",
       "      <td>NaN</td>\n",
       "      <td>NaN</td>\n",
       "      <td>NaN</td>\n",
       "      <td>NaN</td>\n",
       "      <td>NaN</td>\n",
       "    </tr>\n",
       "    <tr>\n",
       "      <th>1</th>\n",
       "      <td>Arab World</td>\n",
       "      <td>ARB</td>\n",
       "      <td>Adjusted net enrolment rate, lower secondary, ...</td>\n",
       "      <td>UIS.NERA.2.F</td>\n",
       "      <td>NaN</td>\n",
       "      <td>NaN</td>\n",
       "      <td>NaN</td>\n",
       "      <td>NaN</td>\n",
       "      <td>NaN</td>\n",
       "      <td>NaN</td>\n",
       "      <td>...</td>\n",
       "      <td>NaN</td>\n",
       "      <td>NaN</td>\n",
       "      <td>NaN</td>\n",
       "      <td>NaN</td>\n",
       "      <td>NaN</td>\n",
       "      <td>NaN</td>\n",
       "      <td>NaN</td>\n",
       "      <td>NaN</td>\n",
       "      <td>NaN</td>\n",
       "      <td>NaN</td>\n",
       "    </tr>\n",
       "    <tr>\n",
       "      <th>2</th>\n",
       "      <td>Arab World</td>\n",
       "      <td>ARB</td>\n",
       "      <td>Adjusted net enrolment rate, lower secondary, ...</td>\n",
       "      <td>UIS.NERA.2.GPI</td>\n",
       "      <td>NaN</td>\n",
       "      <td>NaN</td>\n",
       "      <td>NaN</td>\n",
       "      <td>NaN</td>\n",
       "      <td>NaN</td>\n",
       "      <td>NaN</td>\n",
       "      <td>...</td>\n",
       "      <td>NaN</td>\n",
       "      <td>NaN</td>\n",
       "      <td>NaN</td>\n",
       "      <td>NaN</td>\n",
       "      <td>NaN</td>\n",
       "      <td>NaN</td>\n",
       "      <td>NaN</td>\n",
       "      <td>NaN</td>\n",
       "      <td>NaN</td>\n",
       "      <td>NaN</td>\n",
       "    </tr>\n",
       "  </tbody>\n",
       "</table>\n",
       "<p>3 rows × 70 columns</p>\n",
       "</div>"
      ],
      "text/plain": [
       "  Country Name Country Code  \\\n",
       "0   Arab World          ARB   \n",
       "1   Arab World          ARB   \n",
       "2   Arab World          ARB   \n",
       "\n",
       "                                      Indicator Name  Indicator Code  1970  \\\n",
       "0  Adjusted net enrolment rate, lower secondary, ...      UIS.NERA.2   NaN   \n",
       "1  Adjusted net enrolment rate, lower secondary, ...    UIS.NERA.2.F   NaN   \n",
       "2  Adjusted net enrolment rate, lower secondary, ...  UIS.NERA.2.GPI   NaN   \n",
       "\n",
       "   1971  1972  1973  1974  1975  ...  2060  2065  2070  2075  2080  2085  \\\n",
       "0   NaN   NaN   NaN   NaN   NaN  ...   NaN   NaN   NaN   NaN   NaN   NaN   \n",
       "1   NaN   NaN   NaN   NaN   NaN  ...   NaN   NaN   NaN   NaN   NaN   NaN   \n",
       "2   NaN   NaN   NaN   NaN   NaN  ...   NaN   NaN   NaN   NaN   NaN   NaN   \n",
       "\n",
       "   2090  2095  2100  Unnamed: 69  \n",
       "0   NaN   NaN   NaN          NaN  \n",
       "1   NaN   NaN   NaN          NaN  \n",
       "2   NaN   NaN   NaN          NaN  \n",
       "\n",
       "[3 rows x 70 columns]"
      ]
     },
     "execution_count": 16,
     "metadata": {},
     "output_type": "execute_result"
    }
   ],
   "source": [
    "StatsData.head(3)"
   ]
  },
  {
   "cell_type": "code",
   "execution_count": 17,
   "metadata": {},
   "outputs": [
    {
     "data": {
      "text/plain": [
       "62085100"
      ]
     },
     "execution_count": 17,
     "metadata": {},
     "output_type": "execute_result"
    }
   ],
   "source": [
    "StatsData.size"
   ]
  },
  {
   "cell_type": "code",
   "execution_count": 18,
   "metadata": {},
   "outputs": [
    {
     "data": {
      "text/plain": [
       "3665"
      ]
     },
     "execution_count": 18,
     "metadata": {},
     "output_type": "execute_result"
    }
   ],
   "source": [
    "# nombre d'indicateurs\n",
    "StatsData['Indicator Name'].nunique()"
   ]
  },
  {
   "cell_type": "code",
   "execution_count": 19,
   "metadata": {},
   "outputs": [
    {
     "name": "stdout",
     "output_type": "stream",
     "text": [
      "Le fichier est de taille 62085100 avec 886930 lignes et 70 colonnes. Le fichier contient 86.0 % devaleurs manquantes \n"
     ]
    }
   ],
   "source": [
    "decrire_dataset(StatsData)"
   ]
  },
  {
   "cell_type": "markdown",
   "metadata": {},
   "source": [
    "Le fichier data contient plus de 3 600 indicateurs mesurées sur les pays et régions de puis 1970 jusqu'en 2100. Il contient des projections concernant les années futures."
   ]
  },
  {
   "cell_type": "markdown",
   "metadata": {},
   "source": [
    "### 1.c le fichier EdStatsCountry-Series.csv"
   ]
  },
  {
   "cell_type": "markdown",
   "metadata": {},
   "source": [
    "Ce fichier contient les pays catégorisés par série et la source de cette catégorisation"
   ]
  },
  {
   "cell_type": "code",
   "execution_count": 20,
   "metadata": {},
   "outputs": [
    {
     "data": {
      "text/plain": [
       "(613, 4)"
      ]
     },
     "execution_count": 20,
     "metadata": {},
     "output_type": "execute_result"
    }
   ],
   "source": [
    "Country_Series.shape"
   ]
  },
  {
   "cell_type": "code",
   "execution_count": 21,
   "metadata": {},
   "outputs": [
    {
     "name": "stdout",
     "output_type": "stream",
     "text": [
      "<class 'pandas.core.frame.DataFrame'>\n",
      "RangeIndex: 613 entries, 0 to 612\n",
      "Data columns (total 4 columns):\n",
      " #   Column       Non-Null Count  Dtype  \n",
      "---  ------       --------------  -----  \n",
      " 0   CountryCode  613 non-null    object \n",
      " 1   SeriesCode   613 non-null    object \n",
      " 2   DESCRIPTION  613 non-null    object \n",
      " 3   Unnamed: 3   0 non-null      float64\n",
      "dtypes: float64(1), object(3)\n",
      "memory usage: 19.3+ KB\n"
     ]
    }
   ],
   "source": [
    "Country_Series.info()"
   ]
  },
  {
   "cell_type": "code",
   "execution_count": 22,
   "metadata": {},
   "outputs": [
    {
     "data": {
      "text/plain": [
       "211"
      ]
     },
     "execution_count": 22,
     "metadata": {},
     "output_type": "execute_result"
    }
   ],
   "source": [
    "Country_Series['CountryCode'].nunique()"
   ]
  },
  {
   "cell_type": "code",
   "execution_count": 23,
   "metadata": {},
   "outputs": [
    {
     "data": {
      "text/plain": [
       "(238, 31)"
      ]
     },
     "execution_count": 23,
     "metadata": {},
     "output_type": "execute_result"
    }
   ],
   "source": [
    "Country.shape"
   ]
  },
  {
   "cell_type": "code",
   "execution_count": 24,
   "metadata": {},
   "outputs": [
    {
     "data": {
      "text/html": [
       "<div>\n",
       "<style scoped>\n",
       "    .dataframe tbody tr th:only-of-type {\n",
       "        vertical-align: middle;\n",
       "    }\n",
       "\n",
       "    .dataframe tbody tr th {\n",
       "        vertical-align: top;\n",
       "    }\n",
       "\n",
       "    .dataframe thead th {\n",
       "        text-align: right;\n",
       "    }\n",
       "</style>\n",
       "<table border=\"1\" class=\"dataframe\">\n",
       "  <thead>\n",
       "    <tr style=\"text-align: right;\">\n",
       "      <th></th>\n",
       "      <th>CountryCode</th>\n",
       "      <th>SeriesCode</th>\n",
       "      <th>DESCRIPTION</th>\n",
       "      <th>Unnamed: 3</th>\n",
       "    </tr>\n",
       "  </thead>\n",
       "  <tbody>\n",
       "    <tr>\n",
       "      <th>609</th>\n",
       "      <td>ZMB</td>\n",
       "      <td>SP.POP.GROW</td>\n",
       "      <td>Data sources: United Nations World Population ...</td>\n",
       "      <td>NaN</td>\n",
       "    </tr>\n",
       "    <tr>\n",
       "      <th>485</th>\n",
       "      <td>SOM</td>\n",
       "      <td>SP.POP.GROW</td>\n",
       "      <td>Data sources: United Nations World Population ...</td>\n",
       "      <td>NaN</td>\n",
       "    </tr>\n",
       "    <tr>\n",
       "      <th>233</th>\n",
       "      <td>HRV</td>\n",
       "      <td>SP.POP.TOTL</td>\n",
       "      <td>Data sources : Croatian Bureau of Statistics, ...</td>\n",
       "      <td>NaN</td>\n",
       "    </tr>\n",
       "    <tr>\n",
       "      <th>86</th>\n",
       "      <td>CHI</td>\n",
       "      <td>SP.POP.1564.TO.ZS</td>\n",
       "      <td>Refers to Guernsey, and Jersey.</td>\n",
       "      <td>NaN</td>\n",
       "    </tr>\n",
       "    <tr>\n",
       "      <th>89</th>\n",
       "      <td>CHI</td>\n",
       "      <td>SP.POP.TOTL.MA.ZS</td>\n",
       "      <td>Refers to Guernsey, and Jersey.</td>\n",
       "      <td>NaN</td>\n",
       "    </tr>\n",
       "  </tbody>\n",
       "</table>\n",
       "</div>"
      ],
      "text/plain": [
       "    CountryCode         SeriesCode  \\\n",
       "609         ZMB        SP.POP.GROW   \n",
       "485         SOM        SP.POP.GROW   \n",
       "233         HRV        SP.POP.TOTL   \n",
       "86          CHI  SP.POP.1564.TO.ZS   \n",
       "89          CHI  SP.POP.TOTL.MA.ZS   \n",
       "\n",
       "                                           DESCRIPTION  Unnamed: 3  \n",
       "609  Data sources: United Nations World Population ...         NaN  \n",
       "485  Data sources: United Nations World Population ...         NaN  \n",
       "233  Data sources : Croatian Bureau of Statistics, ...         NaN  \n",
       "86                     Refers to Guernsey, and Jersey.         NaN  \n",
       "89                     Refers to Guernsey, and Jersey.         NaN  "
      ]
     },
     "execution_count": 24,
     "metadata": {},
     "output_type": "execute_result"
    }
   ],
   "source": [
    "Country_Series.sample(5)"
   ]
  },
  {
   "cell_type": "code",
   "execution_count": 25,
   "metadata": {},
   "outputs": [
    {
     "data": {
      "text/plain": [
       "2452"
      ]
     },
     "execution_count": 25,
     "metadata": {},
     "output_type": "execute_result"
    }
   ],
   "source": [
    "Country_Series.size"
   ]
  },
  {
   "cell_type": "code",
   "execution_count": 26,
   "metadata": {},
   "outputs": [
    {
     "data": {
      "text/plain": [
       "211"
      ]
     },
     "execution_count": 26,
     "metadata": {},
     "output_type": "execute_result"
    }
   ],
   "source": [
    "Country_Series[\"CountryCode\"].nunique()"
   ]
  },
  {
   "cell_type": "code",
   "execution_count": 27,
   "metadata": {},
   "outputs": [
    {
     "name": "stdout",
     "output_type": "stream",
     "text": [
      "Le fichier est de taille 2452 avec 613 lignes et 4 colonnes. Le fichier contient 25.0 % devaleurs manquantes \n"
     ]
    }
   ],
   "source": [
    "decrire_dataset(Country_Series)"
   ]
  },
  {
   "cell_type": "markdown",
   "metadata": {},
   "source": [
    "\n",
    "### 1.e le fichier EdStatsFootNote.csv"
   ]
  },
  {
   "cell_type": "markdown",
   "metadata": {},
   "source": [
    "Ce fichier contient une déscription plus détaillée de contenu de fichier EdStatsCountry-Series.csv sur la période de 1970 à 2050"
   ]
  },
  {
   "cell_type": "code",
   "execution_count": 28,
   "metadata": {},
   "outputs": [
    {
     "data": {
      "text/html": [
       "<div>\n",
       "<style scoped>\n",
       "    .dataframe tbody tr th:only-of-type {\n",
       "        vertical-align: middle;\n",
       "    }\n",
       "\n",
       "    .dataframe tbody tr th {\n",
       "        vertical-align: top;\n",
       "    }\n",
       "\n",
       "    .dataframe thead th {\n",
       "        text-align: right;\n",
       "    }\n",
       "</style>\n",
       "<table border=\"1\" class=\"dataframe\">\n",
       "  <thead>\n",
       "    <tr style=\"text-align: right;\">\n",
       "      <th></th>\n",
       "      <th>CountryCode</th>\n",
       "      <th>SeriesCode</th>\n",
       "      <th>Year</th>\n",
       "      <th>DESCRIPTION</th>\n",
       "      <th>Unnamed: 4</th>\n",
       "    </tr>\n",
       "  </thead>\n",
       "  <tbody>\n",
       "    <tr>\n",
       "      <th>0</th>\n",
       "      <td>ABW</td>\n",
       "      <td>SE.PRE.ENRL.FE</td>\n",
       "      <td>YR2001</td>\n",
       "      <td>Country estimation.</td>\n",
       "      <td>NaN</td>\n",
       "    </tr>\n",
       "    <tr>\n",
       "      <th>1</th>\n",
       "      <td>ABW</td>\n",
       "      <td>SE.TER.TCHR.FE</td>\n",
       "      <td>YR2005</td>\n",
       "      <td>Country estimation.</td>\n",
       "      <td>NaN</td>\n",
       "    </tr>\n",
       "    <tr>\n",
       "      <th>2</th>\n",
       "      <td>ABW</td>\n",
       "      <td>SE.PRE.TCHR.FE</td>\n",
       "      <td>YR2000</td>\n",
       "      <td>Country estimation.</td>\n",
       "      <td>NaN</td>\n",
       "    </tr>\n",
       "  </tbody>\n",
       "</table>\n",
       "</div>"
      ],
      "text/plain": [
       "  CountryCode      SeriesCode    Year          DESCRIPTION  Unnamed: 4\n",
       "0         ABW  SE.PRE.ENRL.FE  YR2001  Country estimation.         NaN\n",
       "1         ABW  SE.TER.TCHR.FE  YR2005  Country estimation.         NaN\n",
       "2         ABW  SE.PRE.TCHR.FE  YR2000  Country estimation.         NaN"
      ]
     },
     "execution_count": 28,
     "metadata": {},
     "output_type": "execute_result"
    }
   ],
   "source": [
    "FootNote.head(3)"
   ]
  },
  {
   "cell_type": "code",
   "execution_count": 29,
   "metadata": {},
   "outputs": [
    {
     "data": {
      "text/plain": [
       "3218190"
      ]
     },
     "execution_count": 29,
     "metadata": {},
     "output_type": "execute_result"
    }
   ],
   "source": [
    "FootNote.size"
   ]
  },
  {
   "cell_type": "code",
   "execution_count": 30,
   "metadata": {},
   "outputs": [
    {
     "name": "stdout",
     "output_type": "stream",
     "text": [
      "Le fichier est de taille 3218190 avec 643638 lignes et 5 colonnes. Le fichier contient 20.0 % devaleurs manquantes \n"
     ]
    }
   ],
   "source": [
    "decrire_dataset(FootNote)"
   ]
  },
  {
   "cell_type": "markdown",
   "metadata": {},
   "source": [
    "### 1.f le fichier EdStatsSeries.csv"
   ]
  },
  {
   "cell_type": "markdown",
   "metadata": {},
   "source": [
    "Contient des informations cruciales comme le taux de l'éducation préscolaire, l'égalité dans l'éducation, financement des écoles et développement de la main-d'œuvre, système d'information destiné à la gestion de l'éducation  (la qualité de données, coverage de données sa précision et sa fiabilité)\n"
   ]
  },
  {
   "cell_type": "code",
   "execution_count": 31,
   "metadata": {},
   "outputs": [
    {
     "data": {
      "text/html": [
       "<div>\n",
       "<style scoped>\n",
       "    .dataframe tbody tr th:only-of-type {\n",
       "        vertical-align: middle;\n",
       "    }\n",
       "\n",
       "    .dataframe tbody tr th {\n",
       "        vertical-align: top;\n",
       "    }\n",
       "\n",
       "    .dataframe thead th {\n",
       "        text-align: right;\n",
       "    }\n",
       "</style>\n",
       "<table border=\"1\" class=\"dataframe\">\n",
       "  <thead>\n",
       "    <tr style=\"text-align: right;\">\n",
       "      <th></th>\n",
       "      <th>Series Code</th>\n",
       "      <th>Topic</th>\n",
       "      <th>Indicator Name</th>\n",
       "      <th>Short definition</th>\n",
       "      <th>Long definition</th>\n",
       "      <th>Unit of measure</th>\n",
       "      <th>Periodicity</th>\n",
       "      <th>Base Period</th>\n",
       "      <th>Other notes</th>\n",
       "      <th>Aggregation method</th>\n",
       "      <th>...</th>\n",
       "      <th>Notes from original source</th>\n",
       "      <th>General comments</th>\n",
       "      <th>Source</th>\n",
       "      <th>Statistical concept and methodology</th>\n",
       "      <th>Development relevance</th>\n",
       "      <th>Related source links</th>\n",
       "      <th>Other web links</th>\n",
       "      <th>Related indicators</th>\n",
       "      <th>License Type</th>\n",
       "      <th>Unnamed: 20</th>\n",
       "    </tr>\n",
       "  </thead>\n",
       "  <tbody>\n",
       "    <tr>\n",
       "      <th>540</th>\n",
       "      <td>HH.MICS.OOST.L</td>\n",
       "      <td>Education Equality</td>\n",
       "      <td>MICS: Typology of out-of-school children. Prim...</td>\n",
       "      <td>Typology of out-of-school children. Primary. L...</td>\n",
       "      <td>Typology of out-of-school children. Primary. L...</td>\n",
       "      <td>NaN</td>\n",
       "      <td>NaN</td>\n",
       "      <td>NaN</td>\n",
       "      <td>NaN</td>\n",
       "      <td>NaN</td>\n",
       "      <td>...</td>\n",
       "      <td>NaN</td>\n",
       "      <td>NaN</td>\n",
       "      <td>World Bank staff calculations based on Multipl...</td>\n",
       "      <td>NaN</td>\n",
       "      <td>NaN</td>\n",
       "      <td>NaN</td>\n",
       "      <td>NaN</td>\n",
       "      <td>NaN</td>\n",
       "      <td>NaN</td>\n",
       "      <td>NaN</td>\n",
       "    </tr>\n",
       "    <tr>\n",
       "      <th>2910</th>\n",
       "      <td>UIS.EA.S1.AG25T99.M</td>\n",
       "      <td>Attainment</td>\n",
       "      <td>UIS: Percentage of population age 25+ with som...</td>\n",
       "      <td>The percentage of male population (age 25 and ...</td>\n",
       "      <td>The percentage of male population (age 25 and ...</td>\n",
       "      <td>NaN</td>\n",
       "      <td>NaN</td>\n",
       "      <td>NaN</td>\n",
       "      <td>Single Level Attainment/ Not Cumulative</td>\n",
       "      <td>NaN</td>\n",
       "      <td>...</td>\n",
       "      <td>NaN</td>\n",
       "      <td>NaN</td>\n",
       "      <td>UNESCO Institute for Statistics</td>\n",
       "      <td>NaN</td>\n",
       "      <td>NaN</td>\n",
       "      <td>NaN</td>\n",
       "      <td>NaN</td>\n",
       "      <td>NaN</td>\n",
       "      <td>NaN</td>\n",
       "      <td>NaN</td>\n",
       "    </tr>\n",
       "    <tr>\n",
       "      <th>2669</th>\n",
       "      <td>UIS.AFR.PBR.1.G6.PU.MATH</td>\n",
       "      <td>Primary</td>\n",
       "      <td>Africa Dataset: Average number of pupils per m...</td>\n",
       "      <td>NaN</td>\n",
       "      <td>Average number of Grade 6 pupils per mathemati...</td>\n",
       "      <td>NaN</td>\n",
       "      <td>NaN</td>\n",
       "      <td>NaN</td>\n",
       "      <td>NaN</td>\n",
       "      <td>NaN</td>\n",
       "      <td>...</td>\n",
       "      <td>NaN</td>\n",
       "      <td>NaN</td>\n",
       "      <td>UNESCO Institute for Statistics</td>\n",
       "      <td>NaN</td>\n",
       "      <td>NaN</td>\n",
       "      <td>NaN</td>\n",
       "      <td>NaN</td>\n",
       "      <td>NaN</td>\n",
       "      <td>NaN</td>\n",
       "      <td>NaN</td>\n",
       "    </tr>\n",
       "  </tbody>\n",
       "</table>\n",
       "<p>3 rows × 21 columns</p>\n",
       "</div>"
      ],
      "text/plain": [
       "                   Series Code               Topic  \\\n",
       "540             HH.MICS.OOST.L  Education Equality   \n",
       "2910       UIS.EA.S1.AG25T99.M          Attainment   \n",
       "2669  UIS.AFR.PBR.1.G6.PU.MATH             Primary   \n",
       "\n",
       "                                         Indicator Name  \\\n",
       "540   MICS: Typology of out-of-school children. Prim...   \n",
       "2910  UIS: Percentage of population age 25+ with som...   \n",
       "2669  Africa Dataset: Average number of pupils per m...   \n",
       "\n",
       "                                       Short definition  \\\n",
       "540   Typology of out-of-school children. Primary. L...   \n",
       "2910  The percentage of male population (age 25 and ...   \n",
       "2669                                                NaN   \n",
       "\n",
       "                                        Long definition  Unit of measure  \\\n",
       "540   Typology of out-of-school children. Primary. L...              NaN   \n",
       "2910  The percentage of male population (age 25 and ...              NaN   \n",
       "2669  Average number of Grade 6 pupils per mathemati...              NaN   \n",
       "\n",
       "     Periodicity Base Period                              Other notes  \\\n",
       "540          NaN         NaN                                      NaN   \n",
       "2910         NaN         NaN  Single Level Attainment/ Not Cumulative   \n",
       "2669         NaN         NaN                                      NaN   \n",
       "\n",
       "     Aggregation method  ... Notes from original source  General comments  \\\n",
       "540                 NaN  ...                        NaN               NaN   \n",
       "2910                NaN  ...                        NaN               NaN   \n",
       "2669                NaN  ...                        NaN               NaN   \n",
       "\n",
       "                                                 Source  \\\n",
       "540   World Bank staff calculations based on Multipl...   \n",
       "2910                    UNESCO Institute for Statistics   \n",
       "2669                    UNESCO Institute for Statistics   \n",
       "\n",
       "     Statistical concept and methodology Development relevance  \\\n",
       "540                                  NaN                   NaN   \n",
       "2910                                 NaN                   NaN   \n",
       "2669                                 NaN                   NaN   \n",
       "\n",
       "     Related source links Other web links  Related indicators  License Type  \\\n",
       "540                   NaN             NaN                 NaN           NaN   \n",
       "2910                  NaN             NaN                 NaN           NaN   \n",
       "2669                  NaN             NaN                 NaN           NaN   \n",
       "\n",
       "      Unnamed: 20  \n",
       "540           NaN  \n",
       "2910          NaN  \n",
       "2669          NaN  \n",
       "\n",
       "[3 rows x 21 columns]"
      ]
     },
     "execution_count": 31,
     "metadata": {},
     "output_type": "execute_result"
    }
   ],
   "source": [
    "Series.sample(3)"
   ]
  },
  {
   "cell_type": "code",
   "execution_count": 32,
   "metadata": {},
   "outputs": [
    {
     "data": {
      "text/plain": [
       "76965"
      ]
     },
     "execution_count": 32,
     "metadata": {},
     "output_type": "execute_result"
    }
   ],
   "source": [
    "Series.size"
   ]
  },
  {
   "cell_type": "code",
   "execution_count": 33,
   "metadata": {},
   "outputs": [
    {
     "name": "stdout",
     "output_type": "stream",
     "text": [
      "Le fichier est de taille 76965 avec 3665 lignes et 21 colonnes. Le fichier contient 72.0 % devaleurs manquantes \n"
     ]
    }
   ],
   "source": [
    "decrire_dataset(Series)"
   ]
  },
  {
   "cell_type": "markdown",
   "metadata": {},
   "source": [
    "# 2. Selection d'indicateur potentiellement utiles"
   ]
  },
  {
   "cell_type": "markdown",
   "metadata": {},
   "source": [
    "Comme la domaine d'activié d'Academy est l'e-learning, je juge que ces indicateurs nous seront utiles à étudier:\n",
    "- Population âgée de 15 à 24 ans, j'ai choisi cet indicateur car le public cible d'Academy est les lycéens et les étudiants univeristaires qui sont généralement âgés entre 15 et 24 an\n",
    "\n",
    "- PIB / Habitat: cet indicateur est important peut nous donner une idée si la population d'un pays a les moyennes pour payer les frais de formations d'Academy\n",
    "\n",
    "- le taux de personnes ayant un accès à internet :  cet indicateur est très important pour pouvoir avoir accès aux formations d'Academy qui sont disponible en ligne \n",
    "\n",
    "- Le nombre de personnes ayant un ordinateur portable : cet indicateur est important pour que l'utilisateur puisse suivre les formations en ligne\n",
    "\n",
    "- Le pourcentage des dépenses dans l'éducation d'un pays rapport  le PIB : cet indicateur nous montre si le gouvernement est prêt à investir/accepter nos services dans leur terrtoires\n",
    "\n",
    "- Le pourcentage des dépenses du gouvernement par rapport aux l'ensemble des dépenses publiques\n",
    "\n",
    "- Taux net de scolarisation ajusté, secondaire supérieur : est important car ces étudiants sont le public cible d'academy\n",
    "\n",
    "- Pourcentage d'écoles secondaires inférieures n'ayant accès à l'électricité: j'ai choisi cet indicateur car juge que dans les villages/villes où les écoles n'ont pas accès à l'électricité, il est très probable que ces villages/villes l'=ont pas non plus.\n",
    "Sans l'électricité l'éducation en ligne est compliqué voire impossible, donc je recommande de ne pas lancer le projet dans ces pays dans un premier temps.\n",
    "\n",
    "- Population âgée de 15 à 24 ans sans éducation : dans ce cluster se trouve beaucoup de personne n'ont pas réussit/ou non pas eu la chance d'avoir accès à l'éducation traditional, donc l'éducation en ligne va présenter pour eux une opportunité de continuer leur études supérieures.\n",
    "\n",
    "- Salarie annuel de profs en dollar: j'ai choisi cet indicateur pour étudier la possibilté d'embauche de personnels dans ses pays pour élargir la clientèle d'academy. Ces personnels locaux pourront aider Academy à proposer de contenu dans la langue officielle de ces pays. \n",
    "\n",
    "- Niveau d'alphabétisation chez les adultes : Je recommande de ne pas lancer le projet dans les pays où le taux d'alphabétation est élévée car ce public auront plus de difficulté à utiliser les outils en ligne."
   ]
  },
  {
   "cell_type": "markdown",
   "metadata": {},
   "source": [
    "# 3 Création et manipulation d'un jeu de données propre"
   ]
  },
  {
   "cell_type": "code",
   "execution_count": 9,
   "metadata": {},
   "outputs": [],
   "source": [
    "# liste de pays présents dans CountrySeries et Country ==> 211 pays\n",
    "PaysValide = Country.loc[Country['Country Code'].isin(Country_Series['CountryCode'].unique().tolist()),'Short Name'].tolist()\n",
    "RegionValide = Country[\"Region\"].dropna().unique().tolist()\n",
    "\n",
    "# liste des années de 1970 à 2100\n",
    "annees = list(map(str,range(1970,2100,1)))"
   ]
  },
  {
   "cell_type": "code",
   "execution_count": 10,
   "metadata": {},
   "outputs": [
    {
     "data": {
      "text/plain": [
       "['Latin America & Caribbean',\n",
       " 'South Asia',\n",
       " 'Sub-Saharan Africa',\n",
       " 'Europe & Central Asia',\n",
       " 'Middle East & North Africa',\n",
       " 'East Asia & Pacific',\n",
       " 'North America']"
      ]
     },
     "execution_count": 10,
     "metadata": {},
     "output_type": "execute_result"
    }
   ],
   "source": [
    "RegionValide"
   ]
  },
  {
   "cell_type": "code",
   "execution_count": 11,
   "metadata": {},
   "outputs": [],
   "source": [
    "# cette fonction permet la récupération des données des pays par indicateur \n",
    "def extract_indicateur(indicateur,category) :\n",
    "    #fliter par indicateur\n",
    "    FilteredData = StatsData[StatsData['Indicator Name'] == indicateur]\n",
    "    \n",
    "    ColonneAnnee = [yy for yy in annees if yy in FilteredData.columns]\n",
    "    \n",
    "    listToSend = 0\n",
    "    \n",
    "    if category.lower() == \"country\" :\n",
    "        listToSend = PaysValide\n",
    "    elif category.lower() == \"region\" :\n",
    "        listToSend = RegionValide\n",
    "        \n",
    "    res = FilteredData[FilteredData['Country Name'].isin(listToSend)]\n",
    "    \n",
    "    res = res.dropna(how='all', subset=ColonneAnnee).dropna(axis=1, how='all')\n",
    "        \n",
    "    tab = Country[['Country Code','Region']]\n",
    "    newRes = res.merge(tab,on='Country Code')\n",
    "    return newRes"
   ]
  },
  {
   "cell_type": "code",
   "execution_count": 20,
   "metadata": {},
   "outputs": [
    {
     "data": {
      "text/html": [
       "<div>\n",
       "<style scoped>\n",
       "    .dataframe tbody tr th:only-of-type {\n",
       "        vertical-align: middle;\n",
       "    }\n",
       "\n",
       "    .dataframe tbody tr th {\n",
       "        vertical-align: top;\n",
       "    }\n",
       "\n",
       "    .dataframe thead th {\n",
       "        text-align: right;\n",
       "    }\n",
       "</style>\n",
       "<table border=\"1\" class=\"dataframe\">\n",
       "  <thead>\n",
       "    <tr style=\"text-align: right;\">\n",
       "      <th></th>\n",
       "      <th>Country Name</th>\n",
       "      <th>2011</th>\n",
       "    </tr>\n",
       "  </thead>\n",
       "  <tbody>\n",
       "    <tr>\n",
       "      <th>82</th>\n",
       "      <td>Lebanon</td>\n",
       "      <td>5.73381</td>\n",
       "    </tr>\n",
       "    <tr>\n",
       "      <th>10</th>\n",
       "      <td>Azerbaijan</td>\n",
       "      <td>7.34655</td>\n",
       "    </tr>\n",
       "    <tr>\n",
       "      <th>27</th>\n",
       "      <td>Cambodia</td>\n",
       "      <td>7.68447</td>\n",
       "    </tr>\n",
       "    <tr>\n",
       "      <th>30</th>\n",
       "      <td>Central African Republic</td>\n",
       "      <td>7.82546</td>\n",
       "    </tr>\n",
       "    <tr>\n",
       "      <th>80</th>\n",
       "      <td>Lao PDR</td>\n",
       "      <td>8.01467</td>\n",
       "    </tr>\n",
       "    <tr>\n",
       "      <th>100</th>\n",
       "      <td>Monaco</td>\n",
       "      <td>8.07617</td>\n",
       "    </tr>\n",
       "    <tr>\n",
       "      <th>122</th>\n",
       "      <td>Romania</td>\n",
       "      <td>8.33493</td>\n",
       "    </tr>\n",
       "    <tr>\n",
       "      <th>71</th>\n",
       "      <td>Italy</td>\n",
       "      <td>8.43229</td>\n",
       "    </tr>\n",
       "    <tr>\n",
       "      <th>37</th>\n",
       "      <td>Croatia</td>\n",
       "      <td>8.51579</td>\n",
       "    </tr>\n",
       "    <tr>\n",
       "      <th>137</th>\n",
       "      <td>Sri Lanka</td>\n",
       "      <td>9.11016</td>\n",
       "    </tr>\n",
       "  </tbody>\n",
       "</table>\n",
       "</div>"
      ],
      "text/plain": [
       "                 Country Name     2011\n",
       "82                    Lebanon  5.73381\n",
       "10                 Azerbaijan  7.34655\n",
       "27                   Cambodia  7.68447\n",
       "30   Central African Republic  7.82546\n",
       "80                    Lao PDR  8.01467\n",
       "100                    Monaco  8.07617\n",
       "122                   Romania  8.33493\n",
       "71                      Italy  8.43229\n",
       "37                    Croatia  8.51579\n",
       "137                 Sri Lanka  9.11016"
      ]
     },
     "execution_count": 20,
     "metadata": {},
     "output_type": "execute_result"
    }
   ],
   "source": [
    "EducationExpenditure = extract_indicateur(\"Expenditure on education as % of total government expenditure (%)\", \"country\")\n",
    "EducationExpenditure = EducationExpenditure[['Country Name', '2011']]\n",
    "EducationExpenditure = EducationExpenditure.sort_values(by='2011', ascending=True).head(10)\n",
    "EducationExpenditure\n",
    "#EducationExpenditure.sort_values(by='2011', ascending=False)"
   ]
  },
  {
   "cell_type": "code",
   "execution_count": 25,
   "metadata": {},
   "outputs": [
    {
     "data": {
      "image/png": "[encoded data removed]",
      "text/plain": [
       "<Figure size 432x288 with 1 Axes>"
      ]
     },
     "metadata": {
      "needs_background": "light"
     },
     "output_type": "display_data"
    }
   ],
   "source": [
    "plt.hist(EducationExpenditure['Country Name'],bins = EducationExpenditure['2011'])\n",
    "plt.title(\"histogram\") \n",
    "plt.show()"
   ]
  },
  {
   "cell_type": "markdown",
   "metadata": {},
   "source": [
    "##### Analyse exploratoire de la population 15-24"
   ]
  },
  {
   "cell_type": "code",
   "execution_count": 23,
   "metadata": {},
   "outputs": [
    {
     "data": {
      "text/plain": [
       "82     5.73381\n",
       "10     7.34655\n",
       "27     7.68447\n",
       "30     7.82546\n",
       "80     8.01467\n",
       "100    8.07617\n",
       "122    8.33493\n",
       "71     8.43229\n",
       "37     8.51579\n",
       "137    9.11016\n",
       "Name: 2011, dtype: float64"
      ]
     },
     "execution_count": 23,
     "metadata": {},
     "output_type": "execute_result"
    }
   ],
   "source": [
    "EducationExpenditure['2011']"
   ]
  },
  {
   "cell_type": "code",
   "execution_count": 37,
   "metadata": {},
   "outputs": [
    {
     "data": {
      "text/plain": [
       "(176, 31)"
      ]
     },
     "execution_count": 37,
     "metadata": {},
     "output_type": "execute_result"
    }
   ],
   "source": [
    "pop1524TotalByCountry = extract_indicateur(\"Population, ages 15-24, total\", \"country\")\n",
    "pop1524TotalByCountry.shape"
   ]
  },
  {
   "cell_type": "code",
   "execution_count": 38,
   "metadata": {},
   "outputs": [
    {
     "data": {
      "text/html": [
       "<div>\n",
       "<style scoped>\n",
       "    .dataframe tbody tr th:only-of-type {\n",
       "        vertical-align: middle;\n",
       "    }\n",
       "\n",
       "    .dataframe tbody tr th {\n",
       "        vertical-align: top;\n",
       "    }\n",
       "\n",
       "    .dataframe thead th {\n",
       "        text-align: right;\n",
       "    }\n",
       "</style>\n",
       "<table border=\"1\" class=\"dataframe\">\n",
       "  <thead>\n",
       "    <tr style=\"text-align: right;\">\n",
       "      <th></th>\n",
       "      <th>Country Name</th>\n",
       "      <th>Country Code</th>\n",
       "      <th>Indicator Name</th>\n",
       "      <th>Indicator Code</th>\n",
       "      <th>1990</th>\n",
       "      <th>1991</th>\n",
       "      <th>1992</th>\n",
       "      <th>1993</th>\n",
       "      <th>1994</th>\n",
       "      <th>1995</th>\n",
       "      <th>...</th>\n",
       "      <th>2007</th>\n",
       "      <th>2008</th>\n",
       "      <th>2009</th>\n",
       "      <th>2010</th>\n",
       "      <th>2011</th>\n",
       "      <th>2012</th>\n",
       "      <th>2013</th>\n",
       "      <th>2014</th>\n",
       "      <th>2015</th>\n",
       "      <th>Region</th>\n",
       "    </tr>\n",
       "  </thead>\n",
       "  <tbody>\n",
       "    <tr>\n",
       "      <th>0</th>\n",
       "      <td>Afghanistan</td>\n",
       "      <td>AFG</td>\n",
       "      <td>Population, ages 15-24, total</td>\n",
       "      <td>SP.POP.1524.TO.UN</td>\n",
       "      <td>2423555.0</td>\n",
       "      <td>2587510.0</td>\n",
       "      <td>2808220.0</td>\n",
       "      <td>3056374.0</td>\n",
       "      <td>3291124.0</td>\n",
       "      <td>3483752.0</td>\n",
       "      <td>...</td>\n",
       "      <td>5367499.0</td>\n",
       "      <td>5606736.0</td>\n",
       "      <td>5848604.0</td>\n",
       "      <td>6090239.0</td>\n",
       "      <td>6330684.0</td>\n",
       "      <td>6569239.0</td>\n",
       "      <td>6803785.0</td>\n",
       "      <td>7032072.0</td>\n",
       "      <td>7252785.0</td>\n",
       "      <td>South Asia</td>\n",
       "    </tr>\n",
       "    <tr>\n",
       "      <th>1</th>\n",
       "      <td>Albania</td>\n",
       "      <td>ALB</td>\n",
       "      <td>Population, ages 15-24, total</td>\n",
       "      <td>SP.POP.1524.TO.UN</td>\n",
       "      <td>641446.0</td>\n",
       "      <td>629684.0</td>\n",
       "      <td>610552.0</td>\n",
       "      <td>587602.0</td>\n",
       "      <td>565873.0</td>\n",
       "      <td>549079.0</td>\n",
       "      <td>...</td>\n",
       "      <td>602317.0</td>\n",
       "      <td>607609.0</td>\n",
       "      <td>609841.0</td>\n",
       "      <td>608456.0</td>\n",
       "      <td>603104.0</td>\n",
       "      <td>594101.0</td>\n",
       "      <td>582411.0</td>\n",
       "      <td>569427.0</td>\n",
       "      <td>556269.0</td>\n",
       "      <td>Europe &amp; Central Asia</td>\n",
       "    </tr>\n",
       "    <tr>\n",
       "      <th>2</th>\n",
       "      <td>Algeria</td>\n",
       "      <td>DZA</td>\n",
       "      <td>Population, ages 15-24, total</td>\n",
       "      <td>SP.POP.1524.TO.UN</td>\n",
       "      <td>5158195.0</td>\n",
       "      <td>5306052.0</td>\n",
       "      <td>5459478.0</td>\n",
       "      <td>5620133.0</td>\n",
       "      <td>5789759.0</td>\n",
       "      <td>5968725.0</td>\n",
       "      <td>...</td>\n",
       "      <td>7433466.0</td>\n",
       "      <td>7403074.0</td>\n",
       "      <td>7340706.0</td>\n",
       "      <td>7245764.0</td>\n",
       "      <td>7118500.0</td>\n",
       "      <td>6964424.0</td>\n",
       "      <td>6795040.0</td>\n",
       "      <td>6625398.0</td>\n",
       "      <td>6467818.0</td>\n",
       "      <td>Middle East &amp; North Africa</td>\n",
       "    </tr>\n",
       "  </tbody>\n",
       "</table>\n",
       "<p>3 rows × 31 columns</p>\n",
       "</div>"
      ],
      "text/plain": [
       "  Country Name Country Code                 Indicator Name     Indicator Code  \\\n",
       "0  Afghanistan          AFG  Population, ages 15-24, total  SP.POP.1524.TO.UN   \n",
       "1      Albania          ALB  Population, ages 15-24, total  SP.POP.1524.TO.UN   \n",
       "2      Algeria          DZA  Population, ages 15-24, total  SP.POP.1524.TO.UN   \n",
       "\n",
       "        1990       1991       1992       1993       1994       1995  ...  \\\n",
       "0  2423555.0  2587510.0  2808220.0  3056374.0  3291124.0  3483752.0  ...   \n",
       "1   641446.0   629684.0   610552.0   587602.0   565873.0   549079.0  ...   \n",
       "2  5158195.0  5306052.0  5459478.0  5620133.0  5789759.0  5968725.0  ...   \n",
       "\n",
       "        2007       2008       2009       2010       2011       2012  \\\n",
       "0  5367499.0  5606736.0  5848604.0  6090239.0  6330684.0  6569239.0   \n",
       "1   602317.0   607609.0   609841.0   608456.0   603104.0   594101.0   \n",
       "2  7433466.0  7403074.0  7340706.0  7245764.0  7118500.0  6964424.0   \n",
       "\n",
       "        2013       2014       2015                      Region  \n",
       "0  6803785.0  7032072.0  7252785.0                  South Asia  \n",
       "1   582411.0   569427.0   556269.0       Europe & Central Asia  \n",
       "2  6795040.0  6625398.0  6467818.0  Middle East & North Africa  \n",
       "\n",
       "[3 rows x 31 columns]"
      ]
     },
     "execution_count": 38,
     "metadata": {},
     "output_type": "execute_result"
    }
   ],
   "source": [
    "pop1524TotalByCountry.head(3)"
   ]
  },
  {
   "cell_type": "code",
   "execution_count": 39,
   "metadata": {},
   "outputs": [],
   "source": [
    "temp = pop1524TotalByCountry.drop(['Country Code','Region','Country Name','Indicator Name'],axis=1)\n",
    "pop1524TotalByCountry['MEAN'] = temp.mean(axis=1)\n",
    "pop1524TotalByCountry['MEDIAN'] = temp.median(axis=1)\n",
    "pop1524TotalByCountry['STD'] = temp.std(axis=1)\n",
    "pop1524TotalByCountry['VARIANCE'] = temp.var(axis=1)\n",
    "pop1524TotalByCountry['CHANGE'] = 100.0 * ((temp['2015'] - temp['2000'])/temp['2000'])\n",
    "\n",
    "pop1524TotalByCountry['SKEWNESS'] = temp.skew(axis=1)\n",
    "pop1524TotalByCountry['KURTOSIS'] = temp.kurtosis(axis=1)"
   ]
  },
  {
   "cell_type": "code",
   "execution_count": 40,
   "metadata": {},
   "outputs": [
    {
     "data": {
      "image/png": "[encoded data removed]",
      "text/plain": [
       "<Figure size 800x560 with 1 Axes>"
      ]
     },
     "metadata": {
      "needs_background": "light"
     },
     "output_type": "display_data"
    }
   ],
   "source": [
    "data = pop1524TotalByCountry['2015']\n",
    "testdata = pop1524TotalByCountry['2015']\n",
    "\n",
    "fig = plt.figure(figsize=(10, 7), dpi= 80)\n",
    "\n",
    "ax = sns.distplot(pop1524TotalByCountry['2015'],kde=False,color=\"blue\")\n",
    "\"\"\"\"\"\"\n",
    "ax.text(x=0.97, y=0.97, transform=ax.transAxes, s=\"Skewness: %.2f\" % pop1524TotalByCountry['2015'].skew(),\\\n",
    "        fontweight='demibold', fontsize=15, verticalalignment='top', horizontalalignment='right',\\\n",
    "        backgroundcolor='white', color='navy')\n",
    "ax.text(x=0.97, y=0.91, transform=ax.transAxes, s=\"Kurtosis: %.2f\" % pop1524TotalByCountry['2015'].kurt(),\\\n",
    "        fontweight='demibold', fontsize=15, verticalalignment='top', horizontalalignment='right',\\\n",
    "        backgroundcolor='white', color='navy')\n",
    "ax.text(x=0.97, y=0.79, transform=ax.transAxes, s=\"Moyenne: %.2f\" % pop1524TotalByCountry['2015'].mean(),\\\n",
    "        fontweight='demibold', fontsize=15, verticalalignment='top', horizontalalignment='right',\\\n",
    "        backgroundcolor='white', color='navy')\n",
    "ax.text(x=0.97, y=0.73, transform=ax.transAxes, s=\"Ecart-type: %.2f\" % pop1524TotalByCountry['2015'].std(),\\\n",
    "        fontweight='demibold', fontsize=15, verticalalignment='top', horizontalalignment='right',\\\n",
    "        backgroundcolor='white', color='navy')\n",
    "\n",
    "\n",
    "plt.xlabel('Population')\n",
    "plt.ylabel('Fréquence')\n",
    "plt.title('Distribution de la population 15-24 en 2015')\n",
    "plt.show()"
   ]
  },
  {
   "cell_type": "code",
   "execution_count": 41,
   "metadata": {},
   "outputs": [
    {
     "data": {
      "text/html": [
       "<div>\n",
       "<style scoped>\n",
       "    .dataframe tbody tr th:only-of-type {\n",
       "        vertical-align: middle;\n",
       "    }\n",
       "\n",
       "    .dataframe tbody tr th {\n",
       "        vertical-align: top;\n",
       "    }\n",
       "\n",
       "    .dataframe thead th {\n",
       "        text-align: right;\n",
       "    }\n",
       "</style>\n",
       "<table border=\"1\" class=\"dataframe\">\n",
       "  <thead>\n",
       "    <tr style=\"text-align: right;\">\n",
       "      <th></th>\n",
       "      <th>MEAN</th>\n",
       "      <th>MEDIAN</th>\n",
       "      <th>STD</th>\n",
       "      <th>VARIANCE</th>\n",
       "      <th>CHANGE</th>\n",
       "    </tr>\n",
       "    <tr>\n",
       "      <th>Region</th>\n",
       "      <th></th>\n",
       "      <th></th>\n",
       "      <th></th>\n",
       "      <th></th>\n",
       "      <th></th>\n",
       "    </tr>\n",
       "  </thead>\n",
       "  <tbody>\n",
       "    <tr>\n",
       "      <th>East Asia &amp; Pacific</th>\n",
       "      <td>1.310096e+07</td>\n",
       "      <td>1.306797e+07</td>\n",
       "      <td>1.006209e+06</td>\n",
       "      <td>9.490865e+12</td>\n",
       "      <td>19.450600</td>\n",
       "    </tr>\n",
       "    <tr>\n",
       "      <th>Europe &amp; Central Asia</th>\n",
       "      <td>2.225829e+06</td>\n",
       "      <td>2.238593e+06</td>\n",
       "      <td>2.025481e+05</td>\n",
       "      <td>1.105951e+11</td>\n",
       "      <td>-8.257562</td>\n",
       "    </tr>\n",
       "    <tr>\n",
       "      <th>Latin America &amp; Caribbean</th>\n",
       "      <td>2.878795e+06</td>\n",
       "      <td>2.900061e+06</td>\n",
       "      <td>2.041426e+05</td>\n",
       "      <td>1.732933e+11</td>\n",
       "      <td>9.931883</td>\n",
       "    </tr>\n",
       "    <tr>\n",
       "      <th>Middle East &amp; North Africa</th>\n",
       "      <td>1.915354e+06</td>\n",
       "      <td>1.954754e+06</td>\n",
       "      <td>2.705798e+05</td>\n",
       "      <td>1.691674e+11</td>\n",
       "      <td>22.099674</td>\n",
       "    </tr>\n",
       "    <tr>\n",
       "      <th>North America</th>\n",
       "      <td>1.509969e+07</td>\n",
       "      <td>1.507756e+07</td>\n",
       "      <td>1.211084e+06</td>\n",
       "      <td>3.947341e+12</td>\n",
       "      <td>10.508578</td>\n",
       "    </tr>\n",
       "    <tr>\n",
       "      <th>South Asia</th>\n",
       "      <td>3.527036e+07</td>\n",
       "      <td>3.560709e+07</td>\n",
       "      <td>4.924980e+06</td>\n",
       "      <td>9.120865e+13</td>\n",
       "      <td>29.645121</td>\n",
       "    </tr>\n",
       "    <tr>\n",
       "      <th>Sub-Saharan Africa</th>\n",
       "      <td>3.120248e+06</td>\n",
       "      <td>3.110758e+06</td>\n",
       "      <td>6.514935e+05</td>\n",
       "      <td>1.510884e+12</td>\n",
       "      <td>43.325447</td>\n",
       "    </tr>\n",
       "  </tbody>\n",
       "</table>\n",
       "</div>"
      ],
      "text/plain": [
       "                                    MEAN        MEDIAN           STD  \\\n",
       "Region                                                                 \n",
       "East Asia & Pacific         1.310096e+07  1.306797e+07  1.006209e+06   \n",
       "Europe & Central Asia       2.225829e+06  2.238593e+06  2.025481e+05   \n",
       "Latin America & Caribbean   2.878795e+06  2.900061e+06  2.041426e+05   \n",
       "Middle East & North Africa  1.915354e+06  1.954754e+06  2.705798e+05   \n",
       "North America               1.509969e+07  1.507756e+07  1.211084e+06   \n",
       "South Asia                  3.527036e+07  3.560709e+07  4.924980e+06   \n",
       "Sub-Saharan Africa          3.120248e+06  3.110758e+06  6.514935e+05   \n",
       "\n",
       "                                VARIANCE     CHANGE  \n",
       "Region                                               \n",
       "East Asia & Pacific         9.490865e+12  19.450600  \n",
       "Europe & Central Asia       1.105951e+11  -8.257562  \n",
       "Latin America & Caribbean   1.732933e+11   9.931883  \n",
       "Middle East & North Africa  1.691674e+11  22.099674  \n",
       "North America               3.947341e+12  10.508578  \n",
       "South Asia                  9.120865e+13  29.645121  \n",
       "Sub-Saharan Africa          1.510884e+12  43.325447  "
      ]
     },
     "execution_count": 41,
     "metadata": {},
     "output_type": "execute_result"
    }
   ],
   "source": [
    "colIdx = ['Country Code','Region','Country Name','MEAN','MEDIAN','STD','VARIANCE','CHANGE']\n",
    "pop1524TotalByRegion = pop1524TotalByCountry[colIdx].groupby(['Region']).mean()\n",
    "pop1524TotalByRegion.head(7)"
   ]
  },
  {
   "cell_type": "code",
   "execution_count": 42,
   "metadata": {
    "scrolled": true
   },
   "outputs": [
    {
     "data": {
      "image/png": "[encoded data removed]",
      "text/plain": [
       "<Figure size 1200x600 with 2 Axes>"
      ]
     },
     "metadata": {},
     "output_type": "display_data"
    }
   ],
   "source": [
    "data = pop1524TotalByRegion[['MEAN','MEDIAN','STD']]\n",
    "testDATA = pop1524TotalByRegion.loc['MEAN':]\n",
    "\n",
    "width = 0.2\n",
    "x = np.arange(len(data.index))\n",
    "\n",
    "fig = plt.figure(figsize=(15, 7.5), dpi= 80, facecolor='w', edgecolor='k')\n",
    "\n",
    "ax1 = plt.subplot(1,2, 1)\n",
    "\n",
    "bar1 = ax1.bar(x - width,data['MEAN'].values,width,label='Mean')\n",
    "bar2 = ax1.bar(x,data['MEDIAN'].values,width,label='Median')\n",
    "bar3 = ax1.bar(x + width,data['STD'].values,width,label='Std')\n",
    "\n",
    "ax1.set_ylabel('Population',fontsize=12)\n",
    "ax1.set_title('Ordres de grandeurs de la population âgée 15-24 ans',fontsize=12)\n",
    "ax1.set_xticks(x)\n",
    "ax1.set_xticklabels(data.index,rotation=90,fontsize=12)\n",
    "ax1.legend()\n",
    "\n",
    "def func(pct, allvals):\n",
    "    absolute = int(pct/100.*np.sum(allvals))\n",
    "    return \"{:.1f}%\".format(pct, absolute)\n",
    "\n",
    "colors = ['lightskyblue', 'red', 'blue', 'green', 'gold','deeppink','wheat']\n",
    "\n",
    "ax2 = plt.subplot(1,2, 2)\n",
    "\n",
    "wedges, texts, autotexts = ax2.pie(pop1524TotalByCountry['Region'].value_counts(),\n",
    "                                   autopct=lambda pct: func(pct, pop1524TotalByCountry['Region'].value_counts())\n",
    "                                   ,colors=colors,textprops=dict(color=\"w\"))\n",
    "\n",
    "ax2.legend(wedges, pop1524TotalByCountry['Region'].value_counts().index,\n",
    "          loc=\"center\",\n",
    "          fontsize = 12,\n",
    "          bbox_to_anchor=(0.25, -0.7, 0.5, 1))\n",
    "\n",
    "ax2.set_title('Distrubtion de population 15-24 ans par région',fontsize=12)\n",
    "\n",
    "plt.setp(autotexts, size=15, weight=\"bold\")\n",
    "plt.show()"
   ]
  },
  {
   "cell_type": "code",
   "execution_count": 43,
   "metadata": {},
   "outputs": [
    {
     "data": {
      "text/plain": [
       "Europe & Central Asia         46\n",
       "Sub-Saharan Africa            42\n",
       "Latin America & Caribbean     33\n",
       "East Asia & Pacific           26\n",
       "Middle East & North Africa    18\n",
       "South Asia                     8\n",
       "North America                  3\n",
       "Name: Region, dtype: int64"
      ]
     },
     "execution_count": 43,
     "metadata": {},
     "output_type": "execute_result"
    }
   ],
   "source": [
    "pop1524TotalByCountry['Region'].value_counts()"
   ]
  },
  {
   "cell_type": "code",
   "execution_count": 44,
   "metadata": {
    "scrolled": true
   },
   "outputs": [
    {
     "data": {
      "image/png": "[encoded data removed]",
      "text/plain": [
       "<Figure size 720x504 with 1 Axes>"
      ]
     },
     "metadata": {
      "needs_background": "light"
     },
     "output_type": "display_data"
    }
   ],
   "source": [
    "fig = plt.figure(figsize=(10, 7))\n",
    "fig.suptitle(\"Evolution de la population 15-24\", fontsize  = 14)\n",
    "Date_Deb = datetime.strptime('1990-01-01','%Y-%m-%d')\n",
    "Date_Fin= datetime.strptime('2015-12-31','%Y-%m-%d')\n",
    "annees_ref = pd.date_range(Date_Deb,Date_Fin,freq='Y')\n",
    "\n",
    "Espagne = pop1524TotalByCountry[pop1524TotalByCountry['Country Code']=='ESP'].loc[:,'1990':'2015']\n",
    "France = pop1524TotalByCountry[pop1524TotalByCountry['Country Code']=='FRA'].loc[:,'1990':'2015']\n",
    "plt.plot(annees_ref,Espagne.T,linewidth = 3.0, label='Espagne')\n",
    "plt.plot(annees_ref,France.T,linewidth = 3.0, label='France')\n",
    "#plt.ylim(0,100)\n",
    "\n",
    "plt.xlabel('Année')\n",
    "plt.ylabel('Population 15-24')\n",
    "\n",
    "leg = plt.legend(loc='upper center', ncol=2, mode=\"expand\", shadow=True, fancybox=False)\n",
    "leg.get_frame().set_alpha(0.5)\n",
    "plt.show()\n"
   ]
  },
  {
   "cell_type": "code",
   "execution_count": 45,
   "metadata": {},
   "outputs": [
    {
     "data": {
      "image/png": "[encoded data removed]",
      "text/plain": [
       "<Figure size 1120x560 with 1 Axes>"
      ]
     },
     "metadata": {},
     "output_type": "display_data"
    }
   ],
   "source": [
    "fig = plt.figure(figsize=(14, 7), dpi= 80, facecolor='w', edgecolor='k')\n",
    "\n",
    "data = pop1524TotalByCountry.loc[:,'1990':'2014']\n",
    "\n",
    "ax = sns.boxplot(x=\"variable\",y=\"value\",data = pd.melt(data))\n",
    "ax.set_xticklabels(data.columns,rotation=45)\n",
    "fig.suptitle('Boite à moustache de la population 15-24 ans ', fontsize=14, fontweight='bold')\n",
    "\n",
    "plt.xlabel('Years')\n",
    "plt.ylabel('Boxplot Population 15-24 / an')\n",
    "plt.ylim(0,12000000)\n",
    "plt.show()\n"
   ]
  },
  {
   "cell_type": "markdown",
   "metadata": {},
   "source": [
    "Pour la lecture d'une boite à moustache (boxplot) cf: https://towardsdatascience.com/understanding-boxplots-5e2df7bcbd51"
   ]
  },
  {
   "cell_type": "markdown",
   "metadata": {},
   "source": [
    "Nous verrons que le médiane n'a pas connu grand changement, par contre nous remarquons une augementation de la popluation au fils d'années. ce changement varie dépandant de la zone géographie, par exemple les pays les plus développés ont une démographie veiliassant contrairement aux pays les moins dévelopés, une des raisons de veilissement de démographie est le faible taux de natalité.\n"
   ]
  },
  {
   "cell_type": "code",
   "execution_count": 46,
   "metadata": {},
   "outputs": [],
   "source": [
    "# prend en parametres une data set et un indicateur\n",
    "# retourne une data set contient la liste des pays avec leurs moyennes trié de cet indicateur\n",
    "def MeanByIndactedDataSet(dataset,IndicatorName) :\n",
    "    countries = dataset.filter(regex='^1.*|^2.*')\n",
    "    dfa = pd.DataFrame(columns=['Country Name',IndicatorName])\n",
    "    columns = list(dfa)\n",
    "    data = []\n",
    "    arrCountryPop = []\n",
    "    i = 0\n",
    "    for ct in range(len(dataset)):  \n",
    "        values = [dataset[\"Country Name\"].iloc[i],int(np.nanmean(countries.iloc[i]))]\n",
    "        zipped = zip(columns, values)\n",
    "        a_dictionary = dict(zipped)\n",
    "        data.append(a_dictionary)\n",
    "        i = i + 1 \n",
    "    dfa = dfa.append(data, True)\n",
    "    return dfa\n"
   ]
  },
  {
   "cell_type": "code",
   "execution_count": 47,
   "metadata": {
    "scrolled": false
   },
   "outputs": [],
   "source": [
    "dfa = MeanByIndactedDataSet(pop1524TotalByCountry,'Pop1524')"
   ]
  },
  {
   "cell_type": "code",
   "execution_count": 48,
   "metadata": {},
   "outputs": [],
   "source": [
    "PersonWithPc = extract_indicateur(\"Personal computers (per 100 people)\", \"country\")"
   ]
  },
  {
   "cell_type": "code",
   "execution_count": null,
   "metadata": {},
   "outputs": [],
   "source": [
    "sns.set()\n",
    "sns.pairplot(StatsData, hue=\"Indicator Name\")"
   ]
  },
  {
   "cell_type": "markdown",
   "metadata": {},
   "source": [
    "###  Analyse exploratoire pib par habitat \n"
   ]
  },
  {
   "cell_type": "code",
   "execution_count": null,
   "metadata": {},
   "outputs": [],
   "source": [
    "PibHabitatByCountry = extract_indicateur(\"GDP per capita (current US$)\", \"country\")\n",
    "\n",
    "temp = PibHabitatByCountry .drop(['Country Code','Region','Country Name','Indicator Name'],axis=1)\n",
    "PibHabitatByCountry ['MEAN'] = temp.mean(axis=1)\n",
    "PibHabitatByCountry ['MEDIAN'] = temp.median(axis=1)\n",
    "PibHabitatByCountry ['STD'] = temp.std(axis=1)\n",
    "PibHabitatByCountry ['VARIANCE'] = temp.var(axis=1)\n",
    "PibHabitatByCountry ['CHANGE'] = 100.0 * ((temp['2015'] - temp['2000'])/temp['2000'])\n",
    "\n",
    "PibHabitatByCountry ['SKEWNESS'] = temp.skew(axis=1)\n",
    "PibHabitatByCountry ['KURTOSIS'] = temp.kurtosis(axis=1)"
   ]
  },
  {
   "cell_type": "code",
   "execution_count": null,
   "metadata": {},
   "outputs": [],
   "source": [
    "colIdx = ['Country Code','Region','Country Name','MEAN','MEDIAN','STD','VARIANCE','CHANGE']\n",
    "pipHabitatByRegion= PibHabitatByCountry[colIdx].groupby(['Region']).mean()\n",
    "pipHabitatByRegion.sort_values(by=['MEDIAN'],ascending = False)"
   ]
  },
  {
   "cell_type": "code",
   "execution_count": null,
   "metadata": {
    "scrolled": true
   },
   "outputs": [],
   "source": [
    "data = PibHabitatByCountry ['2015']\n",
    "testdata = PibHabitatByCountry ['2015']\n",
    "\n",
    "fig = plt.figure(figsize=(10, 7), dpi= 80)\n",
    "\n",
    "ax = sns.distplot(PibHabitatByCountry ['2015'],kde=False,color=\"blue\")\n",
    "\"\"\"\"\"\"\n",
    "ax.text(x=0.97, y=0.97, transform=ax.transAxes, s=\"Skewness: %.2f\" % PibHabitatByCountry ['2015'].skew(),\\\n",
    "        fontweight='demibold', fontsize=15, verticalalignment='top', horizontalalignment='right',\\\n",
    "        backgroundcolor='white', color='navy')\n",
    "ax.text(x=0.97, y=0.91, transform=ax.transAxes, s=\"Kurtosis: %.2f\" % PibHabitatByCountry ['2015'].kurt(),\\\n",
    "        fontweight='demibold', fontsize=15, verticalalignment='top', horizontalalignment='right',\\\n",
    "        backgroundcolor='white', color='navy')\n",
    "ax.text(x=0.97, y=0.79, transform=ax.transAxes, s=\"Moyenne: %.2f\" % PibHabitatByCountry ['2015'].mean(),\\\n",
    "        fontweight='demibold', fontsize=15, verticalalignment='top', horizontalalignment='right',\\\n",
    "        backgroundcolor='white', color='navy')\n",
    "ax.text(x=0.97, y=0.73, transform=ax.transAxes, s=\"Ecart-type: %.2f\" % PibHabitatByCountry ['2015'].std(),\\\n",
    "        fontweight='demibold', fontsize=15, verticalalignment='top', horizontalalignment='right',\\\n",
    "        backgroundcolor='white', color='navy')\n",
    "\n",
    "\n",
    "plt.xlabel('Pib par habitat')\n",
    "plt.ylabel('Fréquence')\n",
    "plt.title('Distribution de Pib par habitat en 2015 par pays')\n",
    "plt.show()"
   ]
  },
  {
   "cell_type": "code",
   "execution_count": null,
   "metadata": {},
   "outputs": [],
   "source": [
    "colIdx = ['Country Code','Region','Country Name','MEAN','MEDIAN','STD','VARIANCE','CHANGE']\n",
    "pipHabitatByRegion= PibHabitatByCountry[colIdx].groupby(['Region']).mean()\n",
    "\n",
    "data = pipHabitatByRegion[['MEAN','MEDIAN','STD']]\n",
    "testDATA = pipHabitatByRegion.loc['MEAN':]\n",
    "\n",
    "width = 0.2\n",
    "x = np.arange(len(data.index))\n",
    "\n",
    "fig = plt.figure(figsize=(15, 7.5), dpi= 80, facecolor='w', edgecolor='k')\n",
    "\n",
    "ax1 = plt.subplot(1,2, 1)\n",
    "\n",
    "bar1 = ax1.bar(x - width,data['MEAN'].values,width,label='Mean')\n",
    "bar2 = ax1.bar(x,data['MEDIAN'].values,width,label='Median')\n",
    "bar3 = ax1.bar(x + width,data['STD'].values,width,label='Std')\n",
    "\n",
    "ax1.set_ylabel('Pib par Habitat',fontsize=12)\n",
    "ax1.set_title('Ordres de grandeurs de pib par Habitat entre 1990 et 2020 par région',fontsize=12)\n",
    "ax1.set_xticks(x)\n",
    "ax1.set_xticklabels(data.index,rotation=90,fontsize=12)\n",
    "ax1.legend()\n",
    "\n",
    "def func(pct, allvals):\n",
    "    absolute = int(pct/100.*np.sum(allvals))\n",
    "    return \"{:.1f}%\".format(pct, absolute)\n",
    "\n",
    "colors = ['lightskyblue', 'red', 'blue', 'green', 'gold','deeppink','wheat']\n",
    "\n",
    "ax2 = plt.subplot(1,2, 2)\n",
    "\n",
    "wedges, texts, autotexts = ax2.pie(PibHabitatByCountry['Region'].value_counts(),\n",
    "                                   autopct=lambda pct: func(pct, PibHabitatByCountry['Region'].value_counts())\n",
    "                                   ,colors=colors,textprops=dict(color=\"w\"))\n",
    "\n",
    "ax2.legend(wedges, PibHabitatByCountry['Region'].value_counts().index,\n",
    "          loc=\"center\",\n",
    "          fontsize = 12,\n",
    "          bbox_to_anchor=(0.25, -0.7, 0.5, 1))\n",
    "\n",
    "ax2.set_title('Pib par Habitat entre 1990 et 2020 par région',fontsize=12)\n",
    "\n",
    "plt.setp(autotexts, size=15, weight=\"bold\")\n",
    "plt.show()\n"
   ]
  },
  {
   "cell_type": "code",
   "execution_count": null,
   "metadata": {},
   "outputs": [],
   "source": [
    "PibHabitatByCountry[PibHabitatByCountry['Region']=='North America']"
   ]
  },
  {
   "cell_type": "code",
   "execution_count": null,
   "metadata": {},
   "outputs": [],
   "source": [
    "pibHabitatByRegion = extract_indicateur(\"GDP per capita (current US$)\", \"region\")\n",
    "fig = plt.figure(figsize=(10, 7))\n",
    "fig.suptitle(\"Evolution de la Pib par habitat par region\", fontsize  = 14)\n",
    "Date_Deb = datetime.strptime('1990-01-01','%Y-%m-%d')\n",
    "Date_Fin= datetime.strptime('2015-12-31','%Y-%m-%d')\n",
    "annees_ref = pd.date_range(Date_Deb,Date_Fin,freq='Y')\n",
    "\n",
    "EastAsiaPacific = pibHabitatByRegion[pibHabitatByRegion['Country Name']=='East Asia & Pacific'].loc[:,'1990':'2015']\n",
    "NorthAmerica = pibHabitatByRegion[pibHabitatByRegion['Country Name']=='North America'].loc[:,'1990':'2015']\n",
    "EuropeCentralAsia = pibHabitatByRegion[pibHabitatByRegion['Country Name']=='Europe & Central Asia'].loc[:,'1990':'2015']\n",
    "LatinAmericaCaribbean = pibHabitatByRegion[pibHabitatByRegion['Country Name']=='Latin America & Caribbean'].loc[:,'1990':'2015']\n",
    "MiddleEastNorthAfrica = pibHabitatByRegion[pibHabitatByRegion['Country Name']=='Middle East & North Africa'].loc[:,'1990':'2015']\n",
    "SouthAsia = pibHabitatByRegion[pibHabitatByRegion['Country Name']=='South Asia'].loc[:,'1990':'2015']\n",
    "SubSaharanAfrica = pibHabitatByRegion[pibHabitatByRegion['Country Name']=='Sub-Saharan Africa'].loc[:,'1990':'2015']\n",
    "\n",
    "plt.plot(annees_ref,EastAsiaPacific.T,linewidth = 3.0, label='East Asia & Pacific')\n",
    "#plt.plot(annees_ref,NorthAmerica.T,linewidth = 3.0, label='North America')\n",
    "plt.plot(annees_ref,EuropeCentralAsia.T,linewidth = 3.0, label='Europe & Central Asia')\n",
    "plt.plot(annees_ref,LatinAmericaCaribbean.T,linewidth = 3.0, label='Latin America & Caribbean')\n",
    "plt.plot(annees_ref,MiddleEastNorthAfrica.T,linewidth = 3.0, label='Middle East & North Africa')\n",
    "plt.plot(annees_ref,SouthAsia.T,linewidth = 3.0, label='South Asia')\n",
    "plt.plot(annees_ref,SubSaharanAfrica.T,linewidth = 3.0, label='Sub-Saharan Africa')\n",
    "#plt.ylim(0,100)\n",
    "\n",
    "plt.xlabel('Année')\n",
    "plt.ylabel('Evolution de la Pib par habitat par region')\n",
    "\n",
    "leg = plt.legend(loc='upper center', ncol=2, mode=\"expand\", shadow=True, fancybox=False)\n",
    "leg.get_frame().set_alpha(0.5)\n",
    "plt.show()"
   ]
  },
  {
   "cell_type": "markdown",
   "metadata": {},
   "source": [
    "### Analyse exploratoire utilisateur internet sur 100"
   ]
  },
  {
   "cell_type": "code",
   "execution_count": null,
   "metadata": {},
   "outputs": [],
   "source": [
    "InternetUserPer100= extract_indicateur(\"Internet users (per 100 people)\", \"country\")\n",
    "\n",
    "temp = InternetUserPer100.drop(['Country Code','Region','Country Name','Indicator Name'],axis=1)\n",
    "InternetUserPer100['MEAN'] = temp.mean(axis=1)\n",
    "InternetUserPer100['MEDIAN'] = temp.median(axis=1)\n",
    "InternetUserPer100['STD'] = temp.std(axis=1)\n",
    "InternetUserPer100['VARIANCE'] = temp.var(axis=1)\n",
    "InternetUserPer100['CHANGE'] = 100.0 * ((temp['2015'] - temp['2000'])/temp['2000'])\n",
    "\n",
    "InternetUserPer100['SKEWNESS'] = temp.skew(axis=1)\n",
    "InternetUserPer100['KURTOSIS'] = temp.kurtosis(axis=1)\n",
    "\n",
    "colIdx = ['Country Code','Region','Country Name','MEAN','MEDIAN','STD','VARIANCE','CHANGE']\n",
    "InternetUserPer100ParRegion= InternetUserPer100[colIdx].groupby(['Region']).mean()\n",
    "\n",
    "data = InternetUserPer100ParRegion[['MEAN','MEDIAN','STD']]\n",
    "testDATA = InternetUserPer100ParRegion.loc['MEAN':]\n",
    "\n",
    "width = 0.2\n",
    "x = np.arange(len(data.index))\n",
    "\n",
    "fig = plt.figure(figsize=(15, 7.5), dpi= 80, facecolor='w', edgecolor='k')\n",
    "\n",
    "ax1 = plt.subplot(1,2, 1)\n",
    "\n",
    "bar1 = ax1.bar(x - width,data['MEAN'].values,width,label='Mean')\n",
    "bar2 = ax1.bar(x,data['MEDIAN'].values,width,label='Median')\n",
    "bar3 = ax1.bar(x + width,data['STD'].values,width,label='Std')\n",
    "\n",
    "ax1.set_ylabel('Utilisateur internet/100',fontsize=12)\n",
    "ax1.set_title('Ordres de grandeurs des utilisateurs internet par région',fontsize=12)\n",
    "ax1.set_xticks(x)\n",
    "ax1.set_xticklabels(data.index,rotation=90,fontsize=12)\n",
    "ax1.legend()\n",
    "\n",
    "def func(pct, allvals):\n",
    "    absolute = int(pct/100.*np.sum(allvals))\n",
    "    return \"{:.1f}%\".format(pct, absolute)\n",
    "\n",
    "colors = ['lightskyblue', 'red', 'blue', 'green', 'gold','deeppink','wheat']\n",
    "\n",
    "ax2 = plt.subplot(1,2, 2)\n",
    "\n",
    "wedges, texts, autotexts = ax2.pie(InternetUserPer100['Region'].value_counts(),\n",
    "                                   autopct=lambda pct: func(pct, InternetUserPer100['Region'].value_counts())\n",
    "                                   ,colors=colors,textprops=dict(color=\"w\"))\n",
    "\n",
    "ax2.legend(wedges, InternetUserPer100['Region'].value_counts().index,\n",
    "          loc=\"center\",\n",
    "          fontsize = 12,\n",
    "          bbox_to_anchor=(0.25, -0.7, 0.5, 1))\n",
    "\n",
    "ax2.set_title(\"Nombre d'utilisateurs internet (sur 100 personnes) par région\",fontsize=12)\n",
    "\n",
    "plt.setp(autotexts, size=15, weight=\"bold\")\n",
    "plt.show()\n",
    "\n"
   ]
  },
  {
   "cell_type": "code",
   "execution_count": null,
   "metadata": {},
   "outputs": [],
   "source": [
    "fig = plt.figure(figsize=(14, 7), dpi= 80, facecolor='w', edgecolor='k')\n",
    "\n",
    "data = InternetUserPer100.filter(regex='^1.*|^2.*')\n",
    "ax = sns.boxplot(x=\"variable\",y=\"value\",data = pd.melt(data))\n",
    "ax.set_xticklabels(data.columns,rotation=45)\n",
    "\n",
    "plt.xlabel('Years')\n",
    "plt.ylabel(\"Nombre d'utilisateur innternet  (per 100 personne)\")\n",
    "fig.suptitle(\"Boite à moustache d'utilisateur innternet  (per 100 personne) \", fontsize=14, fontweight='bold')\n",
    "\n",
    "#plt.ylim(0,12000000)\n",
    "plt.show()"
   ]
  },
  {
   "cell_type": "markdown",
   "metadata": {},
   "source": [
    "Nous remarquons qu'au fils des années le nombre des utiliateurs d'internet augemente et l'inégalité entre les pays se réduit."
   ]
  },
  {
   "cell_type": "code",
   "execution_count": null,
   "metadata": {},
   "outputs": [],
   "source": [
    "InternetUserPer100ParRegion= extract_indicateur(\"Courbe d'évolution d'utilisateurs internet par région\", \"region\")\n",
    "fig = plt.figure(figsize=(10, 7))\n",
    "fig.suptitle(\"Internet users (per 100 people) \", fontsize  = 14)\n",
    "Date_Deb = datetime.strptime('1990-01-01','%Y-%m-%d')\n",
    "Date_Fin= datetime.strptime('2015-12-31','%Y-%m-%d')\n",
    "annees_ref = pd.date_range(Date_Deb,Date_Fin,freq='Y')\n",
    "\n",
    "EastAsiaPacific = InternetUserPer100ParRegion[InternetUserPer100ParRegion['Country Name']=='East Asia & Pacific'].loc[:,'1990':'2015']\n",
    "NorthAmerica = InternetUserPer100ParRegion[InternetUserPer100ParRegion['Country Name']=='North America'].loc[:,'1990':'2015']\n",
    "EuropeCentralAsia = InternetUserPer100ParRegion[InternetUserPer100ParRegion['Country Name']=='Europe & Central Asia'].loc[:,'1990':'2015']\n",
    "LatinAmericaCaribbean = InternetUserPer100ParRegion[InternetUserPer100ParRegion['Country Name']=='Latin America & Caribbean'].loc[:,'1990':'2015']\n",
    "MiddleEastNorthAfrica = InternetUserPer100ParRegion[InternetUserPer100ParRegion['Country Name']=='Middle East & North Africa'].loc[:,'1990':'2015']\n",
    "SouthAsia = InternetUserPer100ParRegion[InternetUserPer100ParRegion['Country Name']=='South Asia'].loc[:,'1990':'2015']\n",
    "SubSaharanAfrica = InternetUserPer100ParRegion[InternetUserPer100ParRegion['Country Name']=='Sub-Saharan Africa'].loc[:,'1990':'2015']\n",
    "\n",
    "plt.plot(annees_ref,EastAsiaPacific.T,linewidth = 3.0, label='East Asia & Pacific')\n",
    "#plt.plot(annees_ref,NorthAmerica.T,linewidth = 3.0, label='North America')\n",
    "plt.plot(annees_ref,EuropeCentralAsia.T,linewidth = 3.0, label='Europe & Central Asia')\n",
    "plt.plot(annees_ref,LatinAmericaCaribbean.T,linewidth = 3.0, label='Latin America & Caribbean')\n",
    "plt.plot(annees_ref,MiddleEastNorthAfrica.T,linewidth = 3.0, label='Middle East & North Africa')\n",
    "plt.plot(annees_ref,SouthAsia.T,linewidth = 3.0, label='South Asia')\n",
    "plt.plot(annees_ref,SubSaharanAfrica.T,linewidth = 3.0, label='Sub-Saharan Africa')\n",
    "#plt.ylim(0,100)\n",
    "\n",
    "plt.xlabel('Année')\n",
    "plt.ylabel(\"Utilisateurs internet per 100 personnes\")\n",
    "\n",
    "leg = plt.legend(loc='upper center', ncol=2, mode=\"expand\", shadow=True, fancybox=False)\n",
    "leg.get_frame().set_alpha(0.5)\n",
    "plt.show()"
   ]
  },
  {
   "cell_type": "markdown",
   "metadata": {},
   "source": [
    "### Analyses exploratoire de taux de person ayant un pc  "
   ]
  },
  {
   "cell_type": "code",
   "execution_count": null,
   "metadata": {
    "scrolled": true
   },
   "outputs": [],
   "source": [
    "PersonWithPc= extract_indicateur(\"Personal computers (per 100 people)\", \"country\")\n",
    "\n",
    "temp = PersonWithPc.drop(['Country Code','Region','Country Name','Indicator Name'],axis=1)\n",
    "PersonWithPc['MEAN'] = temp.mean(axis=1)\n",
    "PersonWithPc['MEDIAN'] = temp.median(axis=1)\n",
    "PersonWithPc['STD'] = temp.std(axis=1)\n",
    "PersonWithPc['VARIANCE'] = temp.var(axis=1)\n",
    "#PersonWithPc['CHANGE'] = 100.0 * ((temp['2010'] - temp['2000'])/temp['2000'])\n",
    "\n",
    "PersonWithPc['SKEWNESS'] = temp.skew(axis=1)\n",
    "PersonWithPc['KURTOSIS'] = temp.kurtosis(axis=1)\n",
    "\n",
    "colIdx = ['Country Code','Region','Country Name','MEAN','MEDIAN','STD','VARIANCE']\n",
    "PersonWithPcParRegion= PersonWithPc[colIdx].groupby(['Region']).mean()\n",
    "\n",
    "data = PersonWithPcParRegion[['MEAN','MEDIAN','STD']]\n",
    "testDATA = PersonWithPcParRegion.loc['MEAN':]\n",
    "\n",
    "width = 0.2\n",
    "x = np.arange(len(data.index))\n",
    "\n",
    "fig = plt.figure(figsize=(15, 7.5), dpi= 80, facecolor='w', edgecolor='k')\n",
    "\n",
    "ax1 = plt.subplot(1,2, 1)\n",
    "\n",
    "bar1 = ax1.bar(x - width,data['MEAN'].values,width,label='Mean')\n",
    "bar2 = ax1.bar(x,data['MEDIAN'].values,width,label='Median')\n",
    "bar3 = ax1.bar(x + width,data['STD'].values,width,label='Std')\n",
    "\n",
    "ax1.set_ylabel('Person with pc',fontsize=12)\n",
    "ax1.set_title('Ordres de grandeurs de personnes ayant un pc par région',fontsize=12)\n",
    "ax1.set_xticks(x)\n",
    "ax1.set_xticklabels(data.index,rotation=90,fontsize=12)\n",
    "ax1.legend()\n",
    "\n",
    "def func(pct, allvals):\n",
    "    absolute = int(pct/100.*np.sum(allvals))\n",
    "    return \"{:.1f}%\".format(pct, absolute)\n",
    "\n",
    "colors = ['lightskyblue', 'red', 'blue', 'green', 'gold','deeppink','wheat']\n",
    "\n",
    "ax2 = plt.subplot(1,2, 2)\n",
    "\n",
    "wedges, texts, autotexts = ax2.pie(PersonWithPc['Region'].value_counts(),\n",
    "                                   autopct=lambda pct: func(pct, PersonWithPc['Region'].value_counts())\n",
    "                                   ,colors=colors,textprops=dict(color=\"w\"))\n",
    "\n",
    "ax2.legend(wedges, PersonWithPc['Region'].value_counts().index,\n",
    "          loc=\"center\",\n",
    "          fontsize = 12,\n",
    "          bbox_to_anchor=(0.25, -0.7, 0.5, 1))\n",
    "\n",
    "ax2.set_title('Distrubtion de taux de personne ayant un pc par région',fontsize=12)\n",
    "\n",
    "plt.setp(autotexts, size=15, weight=\"bold\")\n",
    "plt.show()\n"
   ]
  },
  {
   "cell_type": "code",
   "execution_count": null,
   "metadata": {},
   "outputs": [],
   "source": [
    "fig = plt.figure(figsize=(14, 7), dpi= 80, facecolor='w', edgecolor='k')\n",
    "\n",
    "data = PersonWithPc.filter(regex='^1.*|^2.*')\n",
    "ax = sns.boxplot(x=\"variable\",y=\"value\",data = pd.melt(data))\n",
    "ax.set_xticklabels(data.columns,rotation=45)\n",
    "\n",
    "plt.xlabel('Years')\n",
    "plt.ylabel('Personal computers (per 100 person)')\n",
    "fig.suptitle('Boite à moustache de taux de person ayant un pc ', fontsize=14, fontweight='bold')\n",
    "#plt.ylim(0,12000000)\n",
    "plt.show()\n"
   ]
  },
  {
   "cell_type": "code",
   "execution_count": null,
   "metadata": {},
   "outputs": [],
   "source": [
    "PersonWithPcParRegion= extract_indicateur(\"Personal computers (per 100 people)\", \"region\")\n",
    "fig = plt.figure(figsize=(10, 7))\n",
    "fig.suptitle(\"taux de person ayant un pc par region entre l'année 2000 et 2008\", fontsize  = 14)\n",
    "Date_Deb = datetime.strptime('1999-01-01','%Y-%m-%d')\n",
    "Date_Fin= datetime.strptime('2007-12-31','%Y-%m-%d')\n",
    "annees_ref = pd.date_range(Date_Deb,Date_Fin,freq='Y')\n",
    "\n",
    "EastAsiaPacific = PersonWithPcParRegion[PersonWithPcParRegion['Country Name']=='East Asia & Pacific'].loc[:,'1999':'2007']\n",
    "NorthAmerica = PersonWithPcParRegion[PersonWithPcParRegion['Country Name']=='North America'].loc[:,'1999':'2007']\n",
    "EuropeCentralAsia = PersonWithPcParRegion[PersonWithPcParRegion['Country Name']=='Europe & Central Asia'].loc[:,'1999':'2007']\n",
    "LatinAmericaCaribbean = PersonWithPcParRegion[PersonWithPcParRegion['Country Name']=='Latin America & Caribbean'].loc[:,'1999':'2007']\n",
    "MiddleEastNorthAfrica = PersonWithPcParRegion[PersonWithPcParRegion['Country Name']=='Middle East & North Africa'].loc[:,'1999':'2007']\n",
    "SouthAsia = PersonWithPcParRegion[PersonWithPcParRegion['Country Name']=='South Asia'].loc[:,'1999':'2007']\n",
    "SubSaharanAfrica = PersonWithPcParRegion[PersonWithPcParRegion['Country Name']=='Sub-Saharan Africa'].loc[:,'1999':'2007']\n",
    "\n",
    "plt.plot(annees_ref,EastAsiaPacific.T,linewidth = 3.0, label='East Asia & Pacific')\n",
    "#plt.plot(annees_ref,NorthAmerica.T,linewidth = 3.0, label='North America')\n",
    "plt.plot(annees_ref,EuropeCentralAsia.T,linewidth = 3.0, label='Europe & Central Asia')\n",
    "plt.plot(annees_ref,LatinAmericaCaribbean.T,linewidth = 3.0, label='Latin America & Caribbean')\n",
    "plt.plot(annees_ref,MiddleEastNorthAfrica.T,linewidth = 3.0, label='Middle East & North Africa')\n",
    "plt.plot(annees_ref,SouthAsia.T,linewidth = 3.0, label='South Asia')\n",
    "plt.plot(annees_ref,SubSaharanAfrica.T,linewidth = 3.0, label='Sub-Saharan Africa')\n",
    "#plt.ylim(0,100)\n",
    "\n",
    "plt.xlabel('Année')\n",
    "plt.ylabel('Personal computers (per 100 people)')\n",
    "\n",
    "leg = plt.legend(loc='upper center', ncol=2, mode=\"expand\", shadow=True, fancybox=False)\n",
    "leg.get_frame().set_alpha(0.5)\n",
    "plt.show()\n"
   ]
  },
  {
   "cell_type": "markdown",
   "metadata": {},
   "source": [
    "### Analyse exploratoire des dépenses en éducation du gouvernement par rapport aux l'ensemble des dépenses publiques"
   ]
  },
  {
   "cell_type": "code",
   "execution_count": null,
   "metadata": {},
   "outputs": [],
   "source": [
    "EducationExpenditure = extract_indicateur(\"Expenditure on education as % of total government expenditure (%)\", \"country\")\n",
    "\n",
    "temp = EducationExpenditure.drop(['Country Code','Region','Country Name','Indicator Name'],axis=1)\n",
    "EducationExpenditure['MEAN'] = temp.mean(axis=1)\n",
    "EducationExpenditure['MEDIAN'] = temp.median(axis=1)\n",
    "EducationExpenditure['STD'] = temp.std(axis=1)\n",
    "EducationExpenditure['VARIANCE'] = temp.var(axis=1)\n",
    "EducationExpenditure['CHANGE'] = 100.0 * ((temp['2015'] - temp['2000'])/temp['2000'])\n",
    "\n",
    "EducationExpenditure['SKEWNESS'] = temp.skew(axis=1)\n",
    "EducationExpenditure['KURTOSIS'] = temp.kurtosis(axis=1)\n",
    "\n",
    "colIdx = ['Country Code','Region','Country Name','MEAN','MEDIAN','STD','VARIANCE','CHANGE']\n",
    "EducationExpenditureParRegion= EducationExpenditure[colIdx].groupby(['Region']).mean()\n",
    "EducationExpenditureParRegion"
   ]
  },
  {
   "cell_type": "code",
   "execution_count": null,
   "metadata": {},
   "outputs": [],
   "source": [
    "EducationExpenditure = extract_indicateur(\"Expenditure on education as % of total government expenditure (%)\", \"country\")\n",
    "\n",
    "temp = EducationExpenditure.drop(['Country Code','Region','Country Name','Indicator Name'],axis=1)\n",
    "EducationExpenditure['MEAN'] = temp.mean(axis=1)\n",
    "EducationExpenditure['MEDIAN'] = temp.median(axis=1)\n",
    "EducationExpenditure['STD'] = temp.std(axis=1)\n",
    "EducationExpenditure['VARIANCE'] = temp.var(axis=1)\n",
    "EducationExpenditure['CHANGE'] = 100.0 * ((temp['2015'] - temp['2000'])/temp['2000'])\n",
    "\n",
    "EducationExpenditure['SKEWNESS'] = temp.skew(axis=1)\n",
    "EducationExpenditure['KURTOSIS'] = temp.kurtosis(axis=1)\n",
    "\n",
    "colIdx = ['Country Code','Region','Country Name','MEAN','MEDIAN','STD','VARIANCE','CHANGE']\n",
    "EducationExpenditureParRegion= EducationExpenditure[colIdx].groupby(['Region']).mean()\n",
    "\n",
    "data = EducationExpenditureParRegion[['MEAN','MEDIAN','STD']]\n",
    "testDATA = EducationExpenditureParRegion.loc['MEAN':]\n",
    "\n",
    "width = 0.2\n",
    "x = np.arange(len(data.index))\n",
    "\n",
    "fig = plt.figure(figsize=(15, 7.5), dpi= 80, facecolor='w', edgecolor='k')\n",
    "\n",
    "ax1 = plt.subplot(1,2, 1)\n",
    "\n",
    "bar1 = ax1.bar(x - width,data['MEAN'].values,width,label='Mean')\n",
    "bar2 = ax1.bar(x,data['MEDIAN'].values,width,label='Median')\n",
    "bar3 = ax1.bar(x + width,data['STD'].values,width,label='Std')\n",
    "\n",
    "ax1.set_ylabel('Les dépenses en éducation',fontsize=12)\n",
    "ax1.set_title('Ordres de grandeurs des dépenses en éducation par région',fontsize=12)\n",
    "ax1.set_xticks(x)\n",
    "ax1.set_xticklabels(data.index,rotation=90,fontsize=12)\n",
    "ax1.legend()\n",
    "\n",
    "def func(pct, allvals):\n",
    "    absolute = int(pct/100.*np.sum(allvals))\n",
    "    return \"{:.1f}%\".format(pct, absolute)\n",
    "\n",
    "colors = ['lightskyblue', 'red', 'blue', 'green', 'gold','deeppink','wheat']\n",
    "\n",
    "ax2 = plt.subplot(1,2, 2)\n",
    "\n",
    "wedges, texts, autotexts = ax2.pie(EducationExpenditure['Region'].value_counts(),\n",
    "                                   autopct=lambda pct: func(pct, EducationExpenditure['Region'].value_counts())\n",
    "                                   ,colors=colors,textprops=dict(color=\"w\"))\n",
    "\n",
    "ax2.legend(wedges, EducationExpenditure['Region'].value_counts().index,\n",
    "          loc=\"center\",\n",
    "          fontsize = 12,\n",
    "          bbox_to_anchor=(0.25, -0.7, 0.5, 1))\n",
    "\n",
    "ax2.set_title('Distrubtion des dépenses des états en éducation par région',fontsize=12)\n",
    "\n",
    "\n",
    "plt.setp(autotexts, size=15, weight=\"bold\")\n",
    "plt.show()"
   ]
  },
  {
   "cell_type": "code",
   "execution_count": null,
   "metadata": {},
   "outputs": [],
   "source": [
    "fig = plt.figure(figsize=(14, 7), dpi= 80, facecolor='w', edgecolor='k')\n",
    "fig.suptitle('Boite à moustache des dépenses des états en éducation par région ', fontsize=14, fontweight='bold')\n",
    "\n",
    "\n",
    "data = EducationExpenditure.filter(regex='^1.*|^2.*')\n",
    "ax = sns.boxplot(x=\"variable\",y=\"value\",data = pd.melt(data))\n",
    "ax.set_xticklabels(data.columns,rotation=45)\n",
    "\n",
    "plt.xlabel('Years')\n",
    "plt.ylabel('Boxplot Dépenses du gouvernement en éducation')\n",
    "\n",
    "#plt.ylim(0,12000000)\n",
    "plt.show()\n"
   ]
  },
  {
   "cell_type": "code",
   "execution_count": null,
   "metadata": {},
   "outputs": [],
   "source": [
    "EducationExpenditureParRegion= extract_indicateur(\"Internet users (per 100 people)\", \"region\")\n",
    "fig = plt.figure(figsize=(10, 7))\n",
    "fig.suptitle(\"Evolution de dépenses du gouvernement en éducation\", fontsize  = 14)\n",
    "Date_Deb = datetime.strptime('1990-01-01','%Y-%m-%d')\n",
    "Date_Fin= datetime.strptime('2015-12-31','%Y-%m-%d')\n",
    "annees_ref = pd.date_range(Date_Deb,Date_Fin,freq='Y')\n",
    "\n",
    "EastAsiaPacific = EducationExpenditureParRegion[EducationExpenditureParRegion['Country Name']=='East Asia & Pacific'].loc[:,'1990':'2015']\n",
    "NorthAmerica = EducationExpenditureParRegion[EducationExpenditureParRegion['Country Name']=='North America'].loc[:,'1990':'2015']\n",
    "EuropeCentralAsia = EducationExpenditureParRegion[EducationExpenditureParRegion['Country Name']=='Europe & Central Asia'].loc[:,'1990':'2015']\n",
    "LatinAmericaCaribbean = EducationExpenditureParRegion[EducationExpenditureParRegion['Country Name']=='Latin America & Caribbean'].loc[:,'1990':'2015']\n",
    "MiddleEastNorthAfrica = EducationExpenditureParRegion[EducationExpenditureParRegion['Country Name']=='Middle East & North Africa'].loc[:,'1990':'2015']\n",
    "SouthAsia = EducationExpenditureParRegion[EducationExpenditureParRegion['Country Name']=='South Asia'].loc[:,'1990':'2015']\n",
    "SubSaharanAfrica = EducationExpenditureParRegion[EducationExpenditureParRegion['Country Name']=='Sub-Saharan Africa'].loc[:,'1990':'2015']\n",
    "\n",
    "plt.plot(annees_ref,EastAsiaPacific.T,linewidth = 3.0, label='East Asia & Pacific')\n",
    "#plt.plot(annees_ref,NorthAmerica.T,linewidth = 3.0, label='North America')\n",
    "plt.plot(annees_ref,EuropeCentralAsia.T,linewidth = 3.0, label='Europe & Central Asia')\n",
    "plt.plot(annees_ref,LatinAmericaCaribbean.T,linewidth = 3.0, label='Latin America & Caribbean')\n",
    "plt.plot(annees_ref,MiddleEastNorthAfrica.T,linewidth = 3.0, label='Middle East & North Africa')\n",
    "plt.plot(annees_ref,SouthAsia.T,linewidth = 3.0, label='South Asia')\n",
    "plt.plot(annees_ref,SubSaharanAfrica.T,linewidth = 3.0, label='Sub-Saharan Africa')\n",
    "#plt.ylim(0,100)\n",
    "\n",
    "plt.xlabel('Année')\n",
    "plt.ylabel('Dépenses du gouvernement en éducation')\n",
    "\n",
    "leg = plt.legend(loc='upper center', ncol=2, mode=\"expand\", shadow=True, fancybox=False)\n",
    "leg.get_frame().set_alpha(0.5)\n",
    "plt.show()\n"
   ]
  },
  {
   "cell_type": "markdown",
   "metadata": {},
   "source": [
    "### Analyses exploratoire de salaires annuels des professeurs en dollars"
   ]
  },
  {
   "cell_type": "code",
   "execution_count": null,
   "metadata": {
    "scrolled": true
   },
   "outputs": [],
   "source": [
    "teacherAnnualSalary = extract_indicateur(\"Annual statutory teacher salaries in public institutions in USD. Upper Secondary. Starting salary\", \"country\")\n",
    "\n",
    "temp = teacherAnnualSalary.drop(['Country Code','Region','Country Name','Indicator Name'],axis=1)\n",
    "teacherAnnualSalary['MEAN'] = temp.mean(axis=1)\n",
    "teacherAnnualSalary['MEDIAN'] = temp.median(axis=1)\n",
    "teacherAnnualSalary['STD'] = temp.std(axis=1)\n",
    "teacherAnnualSalary['VARIANCE'] = temp.var(axis=1)\n",
    "teacherAnnualSalary['CHANGE'] = 100.0 * ((temp['2015'] - temp['2000'])/temp['2000'])\n",
    "\n",
    "teacherAnnualSalary['SKEWNESS'] = temp.skew(axis=1)\n",
    "teacherAnnualSalary['KURTOSIS'] = temp.kurtosis(axis=1)\n",
    "\n",
    "colIdx = ['Country Code','Region','Country Name','MEAN','MEDIAN','STD','VARIANCE','CHANGE']\n",
    "teacherAnnualSalaryParRegion= teacherAnnualSalary[colIdx].groupby(['Region']).mean()\n",
    "\n",
    "data = teacherAnnualSalaryParRegion[['MEAN','MEDIAN','STD']]\n",
    "testDATA = teacherAnnualSalaryParRegion.loc['MEAN':]\n",
    "\n",
    "width = 0.2\n",
    "x = np.arange(len(data.index))\n",
    "\n",
    "fig = plt.figure(figsize=(15, 7.5), dpi= 80, facecolor='w', edgecolor='k')\n",
    "\n",
    "ax1 = plt.subplot(1,2, 1)\n",
    "\n",
    "bar1 = ax1.bar(x - width,data['MEAN'].values,width,label='Mean')\n",
    "bar2 = ax1.bar(x,data['MEDIAN'].values,width,label='Median')\n",
    "bar3 = ax1.bar(x + width,data['STD'].values,width,label='Std')\n",
    "\n",
    "ax1.set_ylabel('Salaire',fontsize=12)\n",
    "ax1.set_title('Ordre de grandeurs de salaire annuel de professeurs en dollars par région ',fontsize=12)\n",
    "ax1.set_xticks(x)\n",
    "ax1.set_xticklabels(data.index,rotation=90,fontsize=12)\n",
    "ax1.legend()\n",
    "\n",
    "def func(pct, allvals):\n",
    "    absolute = int(pct/100.*np.sum(allvals))\n",
    "    return \"{:.1f}%\".format(pct, absolute)\n",
    "\n",
    "colors = ['lightskyblue', 'red', 'blue', 'green', 'gold','deeppink','wheat']\n",
    "\n",
    "ax2 = plt.subplot(1,2, 2)\n",
    "\n",
    "wedges, texts, autotexts = ax2.pie(teacherAnnualSalary['Region'].value_counts(),\n",
    "                                   autopct=lambda pct: func(pct, teacherAnnualSalary['Region'].value_counts())\n",
    "                                   ,colors=colors,textprops=dict(color=\"w\"))\n",
    "\n",
    "ax2.legend(wedges, teacherAnnualSalary['Region'].value_counts().index,\n",
    "          loc=\"center\",\n",
    "          fontsize = 12,\n",
    "          bbox_to_anchor=(0.25, -0.7, 0.5, 1))\n",
    "\n",
    "ax2.set_title('Salaire annuel de professeurs en dollars par région',fontsize=12)\n",
    "\n",
    "plt.setp(autotexts, size=15, weight=\"bold\")\n",
    "plt.show()"
   ]
  },
  {
   "cell_type": "code",
   "execution_count": null,
   "metadata": {},
   "outputs": [],
   "source": [
    "teacherAnnualSalaryParRegion= extract_indicateur(\"Annual statutory teacher salaries in public institutions in USD. Upper Secondary. Starting salary\", \"country\")\n",
    "fig = plt.figure(figsize=(10, 7))\n",
    "fig.suptitle(\"Salaire annuel de profs en dollars de deux pays : la Pologne et le Portugal\", fontsize  = 14)\n",
    "Date_Deb = datetime.strptime('1999-01-01','%Y-%m-%d')\n",
    "Date_Fin= datetime.strptime('2015-12-31','%Y-%m-%d')\n",
    "annees_ref = pd.date_range(Date_Deb,Date_Fin,freq='Y')\n",
    "\n",
    "Portugal = teacherAnnualSalaryParRegion[teacherAnnualSalaryParRegion['Country Name']=='Portugal'].loc[:,'1999':'2015']\n",
    "Poland = teacherAnnualSalaryParRegion[teacherAnnualSalaryParRegion['Country Name']=='Poland'].loc[:,'1999':'2015']\n",
    "\n",
    "\n",
    "#plt.plot(annees_ref,EastAsiaPacific.T,linewidth = 3.0, label='East Asia & Pacific')\n",
    "plt.plot(annees_ref,Portugal.T,linewidth = 3.0, label='Portugal')\n",
    "plt.plot(annees_ref,Poland.T,linewidth = 3.0, label='Poland')\n",
    "\n",
    "#plt.ylim(0,100)\n",
    "\n",
    "plt.xlabel('Année')\n",
    "plt.ylabel('Salaire annuel de profs en dollars')\n",
    "\n",
    "leg = plt.legend(loc='upper center', ncol=2, mode=\"expand\", shadow=True, fancybox=False)\n",
    "leg.get_frame().set_alpha(0.5)\n",
    "plt.show()\n"
   ]
  },
  {
   "cell_type": "code",
   "execution_count": null,
   "metadata": {},
   "outputs": [],
   "source": [
    "fig = plt.figure(figsize=(14, 7), dpi= 80, facecolor='w', edgecolor='k')\n",
    "\n",
    "data = teacherAnnualSalaryParRegion.filter(regex='^1.*|^2.*')\n",
    "ax = sns.boxplot(x=\"variable\",y=\"value\",data = pd.melt(data))\n",
    "ax.set_xticklabels(data.columns,rotation=45)\n",
    "ax.set_title('Boite à moustache des salaires annuels par an depuis 1999 par region',fontsize=12)\n",
    "plt.xlabel('Years')\n",
    "plt.ylabel('Salaire annuel de profs en dollars')\n",
    "plt.show()\n"
   ]
  },
  {
   "cell_type": "markdown",
   "metadata": {},
   "source": [
    "Depuis 1999, les pays présentent plus d'inégalité de point de vue de salaire annuels."
   ]
  },
  {
   "cell_type": "markdown",
   "metadata": {},
   "source": [
    "### Analyse exploratoire de taux d'alphabètisme chez les personnes âgées plus de 15 ans"
   ]
  },
  {
   "cell_type": "code",
   "execution_count": null,
   "metadata": {},
   "outputs": [],
   "source": [
    "Adultliterate15Plus = extract_indicateur(\"Adult literacy rate, population 15+ years, both sexes (%)\",\"country\")\n",
    "\n",
    "temp = AdultIlliterate15Plus.drop(['Country Code','Region','Country Name','Indicator Name'],axis=1)\n",
    "Adultliterate15Plus['MEAN'] = temp.mean(axis=1)\n",
    "Adultliterate15Plus['MEDIAN'] = temp.median(axis=1)\n",
    "Adultliterate15Plus['STD'] = temp.std(axis=1)\n",
    "Adultliterate15Plus['VARIANCE'] = temp.var(axis=1)\n",
    "Adultliterate15Plus['CHANGE'] = 100.0 * ((temp['2015'] - temp['2000'])/temp['2000'])\n",
    "Adultliterate15Plus['SKEWNESS'] = temp.skew(axis=1)\n",
    "Adultliterate15Plus['KURTOSIS'] = temp.kurtosis(axis=1)\n",
    "\n",
    "colIdx = ['Country Code','Region','Country Name','MEAN','MEDIAN','STD','VARIANCE','CHANGE']\n",
    "Adultliterate15PlusParRegion= Adultliterate15Plus[colIdx].groupby(['Region']).mean()\n",
    "\n",
    "data = Adultliterate15PlusParRegion[['MEAN','MEDIAN','STD']]\n",
    "testDATA = Adultliterate15PlusParRegion.loc['MEAN':]\n",
    "\n",
    "width = 0.2\n",
    "x = np.arange(len(data.index))\n",
    "\n",
    "fig = plt.figure(figsize=(15, 7.5), dpi= 80, facecolor='w', edgecolor='k')\n",
    "\n",
    "ax1 = plt.subplot(1,2, 1)\n",
    "\n",
    "bar1 = ax1.bar(x - width,data['MEAN'].values,width,label='Mean')\n",
    "bar2 = ax1.bar(x,data['MEDIAN'].values,width,label='Median')\n",
    "bar3 = ax1.bar(x + width,data['STD'].values,width,label='Std')\n",
    "\n",
    "ax1.set_ylabel('Population',fontsize=12)\n",
    "ax1.set_title('Ordres de grandeurs des adultes analphabètes âgés 15 ans et plus',fontsize=12)\n",
    "ax1.set_xticks(x)\n",
    "ax1.set_xticklabels(data.index,rotation=90,fontsize=12)\n",
    "ax1.legend()\n",
    "\n",
    "def func(pct, allvals):\n",
    "    absolute = int(pct/100.*np.sum(allvals))\n",
    "    return \"{:.1f}%\".format(pct, absolute)\n",
    "\n",
    "colors = ['lightskyblue', 'red', 'blue', 'green', 'gold','deeppink','wheat']\n",
    "\n",
    "ax2 = plt.subplot(1,2, 2)\n",
    "\n",
    "wedges, texts, autotexts = ax2.pie(AdultIlliterate15Plus['Region'].value_counts(),\n",
    "                                   autopct=lambda pct: func(pct, AdultIlliterate15Plus['Region'].value_counts())\n",
    "                                   ,colors=colors,textprops=dict(color=\"w\"))\n",
    "\n",
    "ax2.legend(wedges, AdultIlliterate15Plus['Region'].value_counts().index,\n",
    "          loc=\"center\",\n",
    "          fontsize = 12,\n",
    "          bbox_to_anchor=(0.25, -0.7, 0.5, 1))\n",
    "ax2.set_title(\"Le taux d'analphabétisme chez les adultes par region\",fontsize=12)\n",
    "\n",
    "plt.setp(autotexts, size=15, weight=\"bold\")\n",
    "plt.show()"
   ]
  },
  {
   "cell_type": "markdown",
   "metadata": {},
   "source": [
    "# 4 . Creation du potentiel de marché de l'e-learning"
   ]
  },
  {
   "cell_type": "code",
   "execution_count": 9,
   "metadata": {},
   "outputs": [],
   "source": [
    "# récuperation de données triées par indacteur \n",
    "InternetUserPer100 = extract_indicateur(\"Internet users (per 100 people)\", \"country\")\n",
    "pop1524TotalByCountry = extract_indicateur(\"Population, ages 15-24, total\", \"country\")\n",
    "PibHabitat = extract_indicateur(\"GDP per capita (current US$)\", \"country\")\n",
    "PersonWithPc = extract_indicateur(\"Personal computers (per 100 people)\", \"country\")\n",
    "EducationExpenditure = extract_indicateur(\"Expenditure on education as % of total government expenditure (%)\", \"country\")\n",
    "TauxScolarisationSecSup = extract_indicateur(\"Adjusted net enrolment rate, upper secondary, male (%)\", \"country\")\n",
    "teacherAnnualSalary = extract_indicateur(\"Annual statutory teacher salaries in public institutions in USD. Upper Secondary. Starting salary\",\"country\")\n",
    "Adultliterate15Plus = extract_indicateur(\"Adult literacy rate, population 15+ years, both sexes (%)\",\"country\")\n",
    "#AfricaEcolesAvecElectricete = extract_indicateur(\"Africa Dataset: Percentage of lower secondary schools with access to electricity (%)\", \"country\")\n"
   ]
  },
  {
   "cell_type": "markdown",
   "metadata": {},
   "source": [
    "### Calcul de l'année de réference par indicateur "
   ]
  },
  {
   "cell_type": "markdown",
   "metadata": {},
   "source": [
    "**Une année de réference** est l'année conentante le moins de valeurs nulles "
   ]
  },
  {
   "cell_type": "code",
   "execution_count": null,
   "metadata": {},
   "outputs": [],
   "source": [
    "# voici comment choisir l'année de référence \n",
    "\n",
    "# AdultIlliterate15Plus.isna().sum().sort_values(ascending=True) #ko\n",
    "# teacherAnnualSalary.isna().sum().sort_values(ascending=True) # Ok Nan\n",
    "#TauxScolarisationSecSup.isna().sum().sort_values(ascending=True) # ok Nan\n",
    "#EducationExpenditure.isna().sum().sort_values(ascending=True) # ok\n",
    "#PersonWithPc.isna().sum().sort_values(ascending=True) # ok => 2005\n",
    "# PIB 2015\n",
    "# hbitant 2015\n",
    "# internet 2015\n",
    "#Adultliterate15Plus.isna().sum() # 2016"
   ]
  },
  {
   "cell_type": "code",
   "execution_count": 10,
   "metadata": {},
   "outputs": [],
   "source": [
    "\n",
    "#Récupération de la colonne de l'année de référence et la renommer \n",
    "InternetUserPer100 = InternetUserPer100[['Country Name', '2016']]\n",
    "InternetUserPer100.columns = ['Country Name', 'InternetUserPer100']\n",
    "\n",
    "pop1524TotalByCountry = pop1524TotalByCountry[['Country Name', '2015']]\n",
    "pop1524TotalByCountry.columns = ['Country Name', 'pop1524TotalByCountry']\n",
    "\n",
    "PibHabitat = PibHabitat[['Country Name', '2015']]\n",
    "PibHabitat.columns = ['Country Name', 'PibHabitat']\n",
    "\n",
    "PersonWithPc = PersonWithPc[['Country Name', '2005']]\n",
    "PersonWithPc.columns = ['Country Name', 'PersonWithPc']\n",
    "\n",
    "EducationExpenditure = EducationExpenditure[['Country Name', '2010']]\n",
    "EducationExpenditure.columns = ['Country Name', 'EducationExpenditure']\n",
    "\n",
    "TauxScolarisationSecSup = TauxScolarisationSecSup[['Country Name', '2014']]\n",
    "TauxScolarisationSecSup.columns = ['Country Name', 'TauxScolarisationSecSup']\n",
    "\n",
    "teacherAnnualSalary = teacherAnnualSalary[['Country Name', '2015']]\n",
    "teacherAnnualSalary.columns = ['Country Name', 'teacherAnnualSalary']\n",
    "\n",
    "#Adultliterate15Plus = AdultIlliterate15Plus[['Country Name', '2011']]\n",
    "#Adultliterate15Plus.columns = ['Country Name', 'Adultliterate15Plus']\n"
   ]
  },
  {
   "cell_type": "code",
   "execution_count": null,
   "metadata": {},
   "outputs": [],
   "source": [
    "#calculer le rang de chaque indicateur\n",
    "InternetUserPer100['Rg_InternetUserPer100'] = InternetUserPer100['InternetUserPer100'].rank(method='average', numeric_only=None, na_option='keep', ascending=True)\n",
    "\n",
    "pop1524TotalByCountry['Rg_pop1524TotalByCountry'] =  pop1524TotalByCountry['pop1524TotalByCountry'].rank(method='average', numeric_only=None, na_option='keep', ascending=True)\n",
    "\n",
    "PibHabitat['Rg_PibHabitat'] =  PibHabitat['PibHabitat'].rank(method='average', numeric_only=None, na_option='keep', ascending=True)\n",
    "\n",
    "PersonWithPc['Rg_PersonWithPc'] =  PersonWithPc['PersonWithPc'].rank(method='average', numeric_only=None, na_option='keep', ascending=True)\n",
    "\n",
    "EducationExpenditure['Rg_EducationExpenditure'] =  EducationExpenditure['EducationExpenditure'].rank(method='average', numeric_only=None, na_option='keep', ascending=True)\n",
    "\n",
    "TauxScolarisationSecSup['Rg_TauxScolarisationSecSup'] =  TauxScolarisationSecSup['TauxScolarisationSecSup'].rank(method='average', numeric_only=None, na_option='keep', ascending=True)\n",
    "\n",
    "teacherAnnualSalary['Rg_teacherAnnualSalary'] =  teacherAnnualSalary['teacherAnnualSalary'].rank(method='average', numeric_only=None, na_option='keep', ascending=True)\n",
    "\n",
    "Adultliterate15Plus['Rg_Adultliterate15Plus'] =  Adultliterate15Plus['Adultliterate15Plus'].rank(method='average', numeric_only=None, na_option='keep', ascending=True)"
   ]
  },
  {
   "cell_type": "code",
   "execution_count": 11,
   "metadata": {},
   "outputs": [
    {
     "data": {
      "text/plain": [
       "(211, 1)"
      ]
     },
     "execution_count": 11,
     "metadata": {},
     "output_type": "execute_result"
    }
   ],
   "source": [
    "# Convertir la list de pays en dataframe pour faire jointure gauche afin d'avoir la liste de tous les pays \n",
    "dataframe_pays = pd.DataFrame(data=PaysValide, columns=[\"Country Name\"])\n",
    "dataframe_pays.shape"
   ]
  },
  {
   "cell_type": "code",
   "execution_count": 12,
   "metadata": {},
   "outputs": [],
   "source": [
    "# création de la table contienant les rangs de chaque indicateur\n",
    "dfs = [dataframe_pays,pop1524TotalByCountry, InternetUserPer100, PibHabitat, PersonWithPc, EducationExpenditure,TauxScolarisationSecSup,teacherAnnualSalary]\n",
    "result = reduce(lambda left,right: pd.merge(left,right,on='Country Name',how='left'), dfs)"
   ]
  },
  {
   "cell_type": "code",
   "execution_count": 13,
   "metadata": {},
   "outputs": [],
   "source": [
    "prplot = result.drop('Country Name', axis=1)"
   ]
  },
  {
   "cell_type": "code",
   "execution_count": 16,
   "metadata": {},
   "outputs": [
    {
     "data": {
      "text/html": [
       "<div>\n",
       "<style scoped>\n",
       "    .dataframe tbody tr th:only-of-type {\n",
       "        vertical-align: middle;\n",
       "    }\n",
       "\n",
       "    .dataframe tbody tr th {\n",
       "        vertical-align: top;\n",
       "    }\n",
       "\n",
       "    .dataframe thead th {\n",
       "        text-align: right;\n",
       "    }\n",
       "</style>\n",
       "<table border=\"1\" class=\"dataframe\">\n",
       "  <thead>\n",
       "    <tr style=\"text-align: right;\">\n",
       "      <th></th>\n",
       "      <th>pop1524TotalByCountry</th>\n",
       "      <th>InternetUserPer100</th>\n",
       "      <th>PibHabitat</th>\n",
       "      <th>PersonWithPc</th>\n",
       "      <th>EducationExpenditure</th>\n",
       "      <th>TauxScolarisationSecSup</th>\n",
       "      <th>teacherAnnualSalary</th>\n",
       "    </tr>\n",
       "  </thead>\n",
       "  <tbody>\n",
       "    <tr>\n",
       "      <th>pop1524TotalByCountry</th>\n",
       "      <td>1.000000</td>\n",
       "      <td>-0.071447</td>\n",
       "      <td>-0.071536</td>\n",
       "      <td>-0.067796</td>\n",
       "      <td>-0.039535</td>\n",
       "      <td>-0.051427</td>\n",
       "      <td>0.125426</td>\n",
       "    </tr>\n",
       "    <tr>\n",
       "      <th>InternetUserPer100</th>\n",
       "      <td>-0.071447</td>\n",
       "      <td>1.000000</td>\n",
       "      <td>0.679724</td>\n",
       "      <td>0.715771</td>\n",
       "      <td>-0.210442</td>\n",
       "      <td>0.816508</td>\n",
       "      <td>0.478770</td>\n",
       "    </tr>\n",
       "    <tr>\n",
       "      <th>PibHabitat</th>\n",
       "      <td>-0.071536</td>\n",
       "      <td>0.679724</td>\n",
       "      <td>1.000000</td>\n",
       "      <td>0.858482</td>\n",
       "      <td>-0.178912</td>\n",
       "      <td>0.490322</td>\n",
       "      <td>0.800002</td>\n",
       "    </tr>\n",
       "    <tr>\n",
       "      <th>PersonWithPc</th>\n",
       "      <td>-0.067796</td>\n",
       "      <td>0.715771</td>\n",
       "      <td>0.858482</td>\n",
       "      <td>1.000000</td>\n",
       "      <td>-0.211088</td>\n",
       "      <td>0.572810</td>\n",
       "      <td>0.608413</td>\n",
       "    </tr>\n",
       "    <tr>\n",
       "      <th>EducationExpenditure</th>\n",
       "      <td>-0.039535</td>\n",
       "      <td>-0.210442</td>\n",
       "      <td>-0.178912</td>\n",
       "      <td>-0.211088</td>\n",
       "      <td>1.000000</td>\n",
       "      <td>-0.410474</td>\n",
       "      <td>0.178318</td>\n",
       "    </tr>\n",
       "    <tr>\n",
       "      <th>TauxScolarisationSecSup</th>\n",
       "      <td>-0.051427</td>\n",
       "      <td>0.816508</td>\n",
       "      <td>0.490322</td>\n",
       "      <td>0.572810</td>\n",
       "      <td>-0.410474</td>\n",
       "      <td>1.000000</td>\n",
       "      <td>-0.040166</td>\n",
       "    </tr>\n",
       "    <tr>\n",
       "      <th>teacherAnnualSalary</th>\n",
       "      <td>0.125426</td>\n",
       "      <td>0.478770</td>\n",
       "      <td>0.800002</td>\n",
       "      <td>0.608413</td>\n",
       "      <td>0.178318</td>\n",
       "      <td>-0.040166</td>\n",
       "      <td>1.000000</td>\n",
       "    </tr>\n",
       "  </tbody>\n",
       "</table>\n",
       "</div>"
      ],
      "text/plain": [
       "                         pop1524TotalByCountry  InternetUserPer100  \\\n",
       "pop1524TotalByCountry                 1.000000           -0.071447   \n",
       "InternetUserPer100                   -0.071447            1.000000   \n",
       "PibHabitat                           -0.071536            0.679724   \n",
       "PersonWithPc                         -0.067796            0.715771   \n",
       "EducationExpenditure                 -0.039535           -0.210442   \n",
       "TauxScolarisationSecSup              -0.051427            0.816508   \n",
       "teacherAnnualSalary                   0.125426            0.478770   \n",
       "\n",
       "                         PibHabitat  PersonWithPc  EducationExpenditure  \\\n",
       "pop1524TotalByCountry     -0.071536     -0.067796             -0.039535   \n",
       "InternetUserPer100         0.679724      0.715771             -0.210442   \n",
       "PibHabitat                 1.000000      0.858482             -0.178912   \n",
       "PersonWithPc               0.858482      1.000000             -0.211088   \n",
       "EducationExpenditure      -0.178912     -0.211088              1.000000   \n",
       "TauxScolarisationSecSup    0.490322      0.572810             -0.410474   \n",
       "teacherAnnualSalary        0.800002      0.608413              0.178318   \n",
       "\n",
       "                         TauxScolarisationSecSup  teacherAnnualSalary  \n",
       "pop1524TotalByCountry                  -0.051427             0.125426  \n",
       "InternetUserPer100                      0.816508             0.478770  \n",
       "PibHabitat                              0.490322             0.800002  \n",
       "PersonWithPc                            0.572810             0.608413  \n",
       "EducationExpenditure                   -0.410474             0.178318  \n",
       "TauxScolarisationSecSup                 1.000000            -0.040166  \n",
       "teacherAnnualSalary                    -0.040166             1.000000  "
      ]
     },
     "execution_count": 16,
     "metadata": {},
     "output_type": "execute_result"
    }
   ],
   "source": [
    "prplot.corr(method ='pearson')"
   ]
  },
  {
   "cell_type": "code",
   "execution_count": 18,
   "metadata": {},
   "outputs": [
    {
     "data": {
      "text/plain": [
       "<matplotlib.axes._subplots.AxesSubplot at 0x2390506c220>"
      ]
     },
     "execution_count": 18,
     "metadata": {},
     "output_type": "execute_result"
    },
    {
     "data": {
      "image/png": "[encoded data removed]",
      "text/plain": [
       "<Figure size 432x288 with 2 Axes>"
      ]
     },
     "metadata": {
      "needs_background": "light"
     },
     "output_type": "display_data"
    }
   ],
   "source": [
    "# graphique de correlation entre les indicateurs (et les rangs de ces indicateurs)\n",
    "sns.heatmap(prplot.corr(method ='pearson'))"
   ]
  },
  {
   "cell_type": "code",
   "execution_count": null,
   "metadata": {},
   "outputs": [],
   "source": []
  },
  {
   "cell_type": "code",
   "execution_count": 126,
   "metadata": {},
   "outputs": [],
   "source": [
    "# ajout de la colonne moyenne à la dataframe en négligant les valeurs nulles\n",
    "final_result = result.copy()\n",
    "final_result['Rg_Total_Plan_A'] = result['Rg_InternetUserPer100']+result['Rg_pop1524TotalByCountry']+result['Rg_PibHabitat']+result['Rg_PersonWithPc']+result['Rg_EducationExpenditure']+result['Rg_TauxScolarisationSecSup']+result['Rg_teacherAnnualSalary']\n",
    "final_result['Rg_Total_Plan_B'] = result['Rg_InternetUserPer100']+result['Rg_pop1524TotalByCountry']+result['Rg_EducationExpenditure']\n"
   ]
  },
  {
   "cell_type": "markdown",
   "metadata": {},
   "source": [
    "***Plan A*** "
   ]
  },
  {
   "cell_type": "code",
   "execution_count": 127,
   "metadata": {},
   "outputs": [
    {
     "data": {
      "text/html": [
       "<div>\n",
       "<style scoped>\n",
       "    .dataframe tbody tr th:only-of-type {\n",
       "        vertical-align: middle;\n",
       "    }\n",
       "\n",
       "    .dataframe tbody tr th {\n",
       "        vertical-align: top;\n",
       "    }\n",
       "\n",
       "    .dataframe thead th {\n",
       "        text-align: right;\n",
       "    }\n",
       "</style>\n",
       "<table border=\"1\" class=\"dataframe\">\n",
       "  <thead>\n",
       "    <tr style=\"text-align: right;\">\n",
       "      <th></th>\n",
       "      <th>Country Name</th>\n",
       "      <th>pop1524TotalByCountry</th>\n",
       "      <th>Rg_pop1524TotalByCountry</th>\n",
       "      <th>InternetUserPer100</th>\n",
       "      <th>Rg_InternetUserPer100</th>\n",
       "      <th>PibHabitat</th>\n",
       "      <th>Rg_PibHabitat</th>\n",
       "      <th>PersonWithPc</th>\n",
       "      <th>Rg_PersonWithPc</th>\n",
       "      <th>EducationExpenditure</th>\n",
       "      <th>...</th>\n",
       "      <th>2010</th>\n",
       "      <th>2011</th>\n",
       "      <th>2012</th>\n",
       "      <th>2013</th>\n",
       "      <th>2014</th>\n",
       "      <th>2015</th>\n",
       "      <th>2016</th>\n",
       "      <th>Region</th>\n",
       "      <th>Rg_Total_Plan_A</th>\n",
       "      <th>Rg_Total_Plan_B</th>\n",
       "    </tr>\n",
       "  </thead>\n",
       "  <tbody>\n",
       "    <tr>\n",
       "      <th>198</th>\n",
       "      <td>United States</td>\n",
       "      <td>45147517.0</td>\n",
       "      <td>163.0</td>\n",
       "      <td>76.176737</td>\n",
       "      <td>137.0</td>\n",
       "      <td>56469.008969</td>\n",
       "      <td>171.0</td>\n",
       "      <td>77.272444</td>\n",
       "      <td>151.0</td>\n",
       "      <td>13.055140</td>\n",
       "      <td>...</td>\n",
       "      <td>NaN</td>\n",
       "      <td>NaN</td>\n",
       "      <td>NaN</td>\n",
       "      <td>NaN</td>\n",
       "      <td>NaN</td>\n",
       "      <td>NaN</td>\n",
       "      <td>NaN</td>\n",
       "      <td>NaN</td>\n",
       "      <td>756.0</td>\n",
       "      <td>353.0</td>\n",
       "    </tr>\n",
       "    <tr>\n",
       "      <th>143</th>\n",
       "      <td>Norway</td>\n",
       "      <td>646961.0</td>\n",
       "      <td>56.0</td>\n",
       "      <td>97.298204</td>\n",
       "      <td>178.0</td>\n",
       "      <td>74521.569932</td>\n",
       "      <td>175.0</td>\n",
       "      <td>59.359206</td>\n",
       "      <td>143.0</td>\n",
       "      <td>15.306020</td>\n",
       "      <td>...</td>\n",
       "      <td>NaN</td>\n",
       "      <td>NaN</td>\n",
       "      <td>NaN</td>\n",
       "      <td>NaN</td>\n",
       "      <td>NaN</td>\n",
       "      <td>NaN</td>\n",
       "      <td>NaN</td>\n",
       "      <td>NaN</td>\n",
       "      <td>728.0</td>\n",
       "      <td>301.0</td>\n",
       "    </tr>\n",
       "    <tr>\n",
       "      <th>178</th>\n",
       "      <td>Sweden</td>\n",
       "      <td>1134811.0</td>\n",
       "      <td>77.0</td>\n",
       "      <td>91.506828</td>\n",
       "      <td>170.0</td>\n",
       "      <td>50812.190860</td>\n",
       "      <td>168.0</td>\n",
       "      <td>83.586531</td>\n",
       "      <td>153.0</td>\n",
       "      <td>12.985510</td>\n",
       "      <td>...</td>\n",
       "      <td>NaN</td>\n",
       "      <td>NaN</td>\n",
       "      <td>NaN</td>\n",
       "      <td>NaN</td>\n",
       "      <td>NaN</td>\n",
       "      <td>NaN</td>\n",
       "      <td>NaN</td>\n",
       "      <td>NaN</td>\n",
       "      <td>720.0</td>\n",
       "      <td>298.0</td>\n",
       "    </tr>\n",
       "    <tr>\n",
       "      <th>33</th>\n",
       "      <td>Switzerland</td>\n",
       "      <td>959002.0</td>\n",
       "      <td>65.0</td>\n",
       "      <td>89.405568</td>\n",
       "      <td>165.0</td>\n",
       "      <td>82016.021313</td>\n",
       "      <td>178.0</td>\n",
       "      <td>86.790933</td>\n",
       "      <td>155.0</td>\n",
       "      <td>15.398230</td>\n",
       "      <td>...</td>\n",
       "      <td>NaN</td>\n",
       "      <td>NaN</td>\n",
       "      <td>NaN</td>\n",
       "      <td>NaN</td>\n",
       "      <td>NaN</td>\n",
       "      <td>NaN</td>\n",
       "      <td>NaN</td>\n",
       "      <td>NaN</td>\n",
       "      <td>715.0</td>\n",
       "      <td>299.0</td>\n",
       "    </tr>\n",
       "    <tr>\n",
       "      <th>63</th>\n",
       "      <td>France</td>\n",
       "      <td>7567872.0</td>\n",
       "      <td>141.0</td>\n",
       "      <td>85.622200</td>\n",
       "      <td>158.0</td>\n",
       "      <td>36526.770108</td>\n",
       "      <td>154.0</td>\n",
       "      <td>56.961536</td>\n",
       "      <td>142.0</td>\n",
       "      <td>10.069130</td>\n",
       "      <td>...</td>\n",
       "      <td>NaN</td>\n",
       "      <td>NaN</td>\n",
       "      <td>NaN</td>\n",
       "      <td>NaN</td>\n",
       "      <td>NaN</td>\n",
       "      <td>NaN</td>\n",
       "      <td>NaN</td>\n",
       "      <td>NaN</td>\n",
       "      <td>704.0</td>\n",
       "      <td>319.0</td>\n",
       "    </tr>\n",
       "    <tr>\n",
       "      <th>52</th>\n",
       "      <td>Denmark</td>\n",
       "      <td>710024.0</td>\n",
       "      <td>58.0</td>\n",
       "      <td>96.967785</td>\n",
       "      <td>177.0</td>\n",
       "      <td>53012.996584</td>\n",
       "      <td>169.0</td>\n",
       "      <td>69.623744</td>\n",
       "      <td>149.0</td>\n",
       "      <td>15.103340</td>\n",
       "      <td>...</td>\n",
       "      <td>NaN</td>\n",
       "      <td>NaN</td>\n",
       "      <td>NaN</td>\n",
       "      <td>NaN</td>\n",
       "      <td>NaN</td>\n",
       "      <td>NaN</td>\n",
       "      <td>NaN</td>\n",
       "      <td>NaN</td>\n",
       "      <td>690.0</td>\n",
       "      <td>301.0</td>\n",
       "    </tr>\n",
       "    <tr>\n",
       "      <th>145</th>\n",
       "      <td>New Zealand</td>\n",
       "      <td>615099.0</td>\n",
       "      <td>52.0</td>\n",
       "      <td>88.470186</td>\n",
       "      <td>164.0</td>\n",
       "      <td>38201.574553</td>\n",
       "      <td>155.0</td>\n",
       "      <td>50.240475</td>\n",
       "      <td>139.0</td>\n",
       "      <td>16.930861</td>\n",
       "      <td>...</td>\n",
       "      <td>NaN</td>\n",
       "      <td>NaN</td>\n",
       "      <td>NaN</td>\n",
       "      <td>NaN</td>\n",
       "      <td>NaN</td>\n",
       "      <td>NaN</td>\n",
       "      <td>NaN</td>\n",
       "      <td>NaN</td>\n",
       "      <td>686.0</td>\n",
       "      <td>302.0</td>\n",
       "    </tr>\n",
       "    <tr>\n",
       "      <th>58</th>\n",
       "      <td>Spain</td>\n",
       "      <td>4285743.0</td>\n",
       "      <td>121.0</td>\n",
       "      <td>80.561333</td>\n",
       "      <td>153.0</td>\n",
       "      <td>25787.928792</td>\n",
       "      <td>147.0</td>\n",
       "      <td>27.657750</td>\n",
       "      <td>130.0</td>\n",
       "      <td>10.563980</td>\n",
       "      <td>...</td>\n",
       "      <td>894837.0</td>\n",
       "      <td>881504.0</td>\n",
       "      <td>835310.0</td>\n",
       "      <td>759798.0</td>\n",
       "      <td>750894.0</td>\n",
       "      <td>729349.0</td>\n",
       "      <td>687340.0</td>\n",
       "      <td>Europe &amp; Central Asia</td>\n",
       "      <td>660.0</td>\n",
       "      <td>299.0</td>\n",
       "    </tr>\n",
       "    <tr>\n",
       "      <th>61</th>\n",
       "      <td>Finland</td>\n",
       "      <td>639391.0</td>\n",
       "      <td>54.0</td>\n",
       "      <td>87.703650</td>\n",
       "      <td>162.0</td>\n",
       "      <td>42419.565567</td>\n",
       "      <td>161.0</td>\n",
       "      <td>50.034614</td>\n",
       "      <td>138.0</td>\n",
       "      <td>11.945490</td>\n",
       "      <td>...</td>\n",
       "      <td>NaN</td>\n",
       "      <td>NaN</td>\n",
       "      <td>NaN</td>\n",
       "      <td>NaN</td>\n",
       "      <td>NaN</td>\n",
       "      <td>NaN</td>\n",
       "      <td>NaN</td>\n",
       "      <td>NaN</td>\n",
       "      <td>646.0</td>\n",
       "      <td>251.0</td>\n",
       "    </tr>\n",
       "    <tr>\n",
       "      <th>123</th>\n",
       "      <td>Mexico</td>\n",
       "      <td>20336734.0</td>\n",
       "      <td>156.0</td>\n",
       "      <td>59.540446</td>\n",
       "      <td>104.0</td>\n",
       "      <td>9152.872306</td>\n",
       "      <td>109.0</td>\n",
       "      <td>12.643158</td>\n",
       "      <td>103.0</td>\n",
       "      <td>19.429090</td>\n",
       "      <td>...</td>\n",
       "      <td>5732686.0</td>\n",
       "      <td>5481717.0</td>\n",
       "      <td>4967269.0</td>\n",
       "      <td>5313960.0</td>\n",
       "      <td>4879200.0</td>\n",
       "      <td>5055690.0</td>\n",
       "      <td>NaN</td>\n",
       "      <td>Latin America &amp; Caribbean</td>\n",
       "      <td>633.0</td>\n",
       "      <td>361.0</td>\n",
       "    </tr>\n",
       "  </tbody>\n",
       "</table>\n",
       "<p>10 rows × 64 columns</p>\n",
       "</div>"
      ],
      "text/plain": [
       "      Country Name  pop1524TotalByCountry  Rg_pop1524TotalByCountry  \\\n",
       "198  United States             45147517.0                     163.0   \n",
       "143         Norway               646961.0                      56.0   \n",
       "178         Sweden              1134811.0                      77.0   \n",
       "33     Switzerland               959002.0                      65.0   \n",
       "63          France              7567872.0                     141.0   \n",
       "52         Denmark               710024.0                      58.0   \n",
       "145    New Zealand               615099.0                      52.0   \n",
       "58           Spain              4285743.0                     121.0   \n",
       "61         Finland               639391.0                      54.0   \n",
       "123         Mexico             20336734.0                     156.0   \n",
       "\n",
       "     InternetUserPer100  Rg_InternetUserPer100    PibHabitat  Rg_PibHabitat  \\\n",
       "198           76.176737                  137.0  56469.008969          171.0   \n",
       "143           97.298204                  178.0  74521.569932          175.0   \n",
       "178           91.506828                  170.0  50812.190860          168.0   \n",
       "33            89.405568                  165.0  82016.021313          178.0   \n",
       "63            85.622200                  158.0  36526.770108          154.0   \n",
       "52            96.967785                  177.0  53012.996584          169.0   \n",
       "145           88.470186                  164.0  38201.574553          155.0   \n",
       "58            80.561333                  153.0  25787.928792          147.0   \n",
       "61            87.703650                  162.0  42419.565567          161.0   \n",
       "123           59.540446                  104.0   9152.872306          109.0   \n",
       "\n",
       "     PersonWithPc  Rg_PersonWithPc  EducationExpenditure  ...       2010  \\\n",
       "198     77.272444            151.0             13.055140  ...        NaN   \n",
       "143     59.359206            143.0             15.306020  ...        NaN   \n",
       "178     83.586531            153.0             12.985510  ...        NaN   \n",
       "33      86.790933            155.0             15.398230  ...        NaN   \n",
       "63      56.961536            142.0             10.069130  ...        NaN   \n",
       "52      69.623744            149.0             15.103340  ...        NaN   \n",
       "145     50.240475            139.0             16.930861  ...        NaN   \n",
       "58      27.657750            130.0             10.563980  ...   894837.0   \n",
       "61      50.034614            138.0             11.945490  ...        NaN   \n",
       "123     12.643158            103.0             19.429090  ...  5732686.0   \n",
       "\n",
       "          2011       2012       2013       2014       2015      2016  \\\n",
       "198        NaN        NaN        NaN        NaN        NaN       NaN   \n",
       "143        NaN        NaN        NaN        NaN        NaN       NaN   \n",
       "178        NaN        NaN        NaN        NaN        NaN       NaN   \n",
       "33         NaN        NaN        NaN        NaN        NaN       NaN   \n",
       "63         NaN        NaN        NaN        NaN        NaN       NaN   \n",
       "52         NaN        NaN        NaN        NaN        NaN       NaN   \n",
       "145        NaN        NaN        NaN        NaN        NaN       NaN   \n",
       "58    881504.0   835310.0   759798.0   750894.0   729349.0  687340.0   \n",
       "61         NaN        NaN        NaN        NaN        NaN       NaN   \n",
       "123  5481717.0  4967269.0  5313960.0  4879200.0  5055690.0       NaN   \n",
       "\n",
       "                        Region  Rg_Total_Plan_A  Rg_Total_Plan_B  \n",
       "198                        NaN            756.0            353.0  \n",
       "143                        NaN            728.0            301.0  \n",
       "178                        NaN            720.0            298.0  \n",
       "33                         NaN            715.0            299.0  \n",
       "63                         NaN            704.0            319.0  \n",
       "52                         NaN            690.0            301.0  \n",
       "145                        NaN            686.0            302.0  \n",
       "58       Europe & Central Asia            660.0            299.0  \n",
       "61                         NaN            646.0            251.0  \n",
       "123  Latin America & Caribbean            633.0            361.0  \n",
       "\n",
       "[10 rows x 64 columns]"
      ]
     },
     "execution_count": 127,
     "metadata": {},
     "output_type": "execute_result"
    }
   ],
   "source": [
    "final_result.sort_values(by='Rg_Total_Plan_A', inplace= True, ascending=False)\n",
    "final_result.head(10)"
   ]
  },
  {
   "cell_type": "markdown",
   "metadata": {},
   "source": [
    "#### Liste de pays plan b, calculer les pays qui sont en voie de développement \n"
   ]
  },
  {
   "cell_type": "code",
   "execution_count": 128,
   "metadata": {},
   "outputs": [
    {
     "data": {
      "text/html": [
       "<div>\n",
       "<style scoped>\n",
       "    .dataframe tbody tr th:only-of-type {\n",
       "        vertical-align: middle;\n",
       "    }\n",
       "\n",
       "    .dataframe tbody tr th {\n",
       "        vertical-align: top;\n",
       "    }\n",
       "\n",
       "    .dataframe thead th {\n",
       "        text-align: right;\n",
       "    }\n",
       "</style>\n",
       "<table border=\"1\" class=\"dataframe\">\n",
       "  <thead>\n",
       "    <tr style=\"text-align: right;\">\n",
       "      <th></th>\n",
       "      <th>Country Name</th>\n",
       "      <th>pop1524TotalByCountry</th>\n",
       "      <th>Rg_pop1524TotalByCountry</th>\n",
       "      <th>InternetUserPer100</th>\n",
       "      <th>Rg_InternetUserPer100</th>\n",
       "      <th>PibHabitat</th>\n",
       "      <th>Rg_PibHabitat</th>\n",
       "      <th>PersonWithPc</th>\n",
       "      <th>Rg_PersonWithPc</th>\n",
       "      <th>EducationExpenditure</th>\n",
       "      <th>...</th>\n",
       "      <th>2010</th>\n",
       "      <th>2011</th>\n",
       "      <th>2012</th>\n",
       "      <th>2013</th>\n",
       "      <th>2014</th>\n",
       "      <th>2015</th>\n",
       "      <th>2016</th>\n",
       "      <th>Region</th>\n",
       "      <th>Rg_Total_Plan_A</th>\n",
       "      <th>Rg_Total_Plan_B</th>\n",
       "    </tr>\n",
       "  </thead>\n",
       "  <tbody>\n",
       "    <tr>\n",
       "      <th>136</th>\n",
       "      <td>Malaysia</td>\n",
       "      <td>5332642.0</td>\n",
       "      <td>130.0</td>\n",
       "      <td>78.788310</td>\n",
       "      <td>145.0</td>\n",
       "      <td>9648.553455</td>\n",
       "      <td>113.0</td>\n",
       "      <td>21.668920</td>\n",
       "      <td>123.0</td>\n",
       "      <td>18.406231</td>\n",
       "      <td>...</td>\n",
       "      <td>1399849.0</td>\n",
       "      <td>NaN</td>\n",
       "      <td>NaN</td>\n",
       "      <td>NaN</td>\n",
       "      <td>NaN</td>\n",
       "      <td>NaN</td>\n",
       "      <td>NaN</td>\n",
       "      <td>East Asia &amp; Pacific</td>\n",
       "      <td>NaN</td>\n",
       "      <td>372.0</td>\n",
       "    </tr>\n",
       "    <tr>\n",
       "      <th>67</th>\n",
       "      <td>United Kingdom</td>\n",
       "      <td>7731522.0</td>\n",
       "      <td>142.0</td>\n",
       "      <td>94.775801</td>\n",
       "      <td>175.0</td>\n",
       "      <td>44305.554632</td>\n",
       "      <td>164.0</td>\n",
       "      <td>75.730518</td>\n",
       "      <td>150.0</td>\n",
       "      <td>12.952480</td>\n",
       "      <td>...</td>\n",
       "      <td>NaN</td>\n",
       "      <td>NaN</td>\n",
       "      <td>NaN</td>\n",
       "      <td>NaN</td>\n",
       "      <td>NaN</td>\n",
       "      <td>NaN</td>\n",
       "      <td>NaN</td>\n",
       "      <td>NaN</td>\n",
       "      <td>NaN</td>\n",
       "      <td>367.0</td>\n",
       "    </tr>\n",
       "    <tr>\n",
       "      <th>123</th>\n",
       "      <td>Mexico</td>\n",
       "      <td>20336734.0</td>\n",
       "      <td>156.0</td>\n",
       "      <td>59.540446</td>\n",
       "      <td>104.0</td>\n",
       "      <td>9152.872306</td>\n",
       "      <td>109.0</td>\n",
       "      <td>12.643158</td>\n",
       "      <td>103.0</td>\n",
       "      <td>19.429090</td>\n",
       "      <td>...</td>\n",
       "      <td>5732686.0</td>\n",
       "      <td>5481717.0</td>\n",
       "      <td>4967269.0</td>\n",
       "      <td>5313960.0</td>\n",
       "      <td>4879200.0</td>\n",
       "      <td>5055690.0</td>\n",
       "      <td>NaN</td>\n",
       "      <td>Latin America &amp; Caribbean</td>\n",
       "      <td>633.0</td>\n",
       "      <td>361.0</td>\n",
       "    </tr>\n",
       "    <tr>\n",
       "      <th>198</th>\n",
       "      <td>United States</td>\n",
       "      <td>45147517.0</td>\n",
       "      <td>163.0</td>\n",
       "      <td>76.176737</td>\n",
       "      <td>137.0</td>\n",
       "      <td>56469.008969</td>\n",
       "      <td>171.0</td>\n",
       "      <td>77.272444</td>\n",
       "      <td>151.0</td>\n",
       "      <td>13.055140</td>\n",
       "      <td>...</td>\n",
       "      <td>NaN</td>\n",
       "      <td>NaN</td>\n",
       "      <td>NaN</td>\n",
       "      <td>NaN</td>\n",
       "      <td>NaN</td>\n",
       "      <td>NaN</td>\n",
       "      <td>NaN</td>\n",
       "      <td>NaN</td>\n",
       "      <td>756.0</td>\n",
       "      <td>353.0</td>\n",
       "    </tr>\n",
       "    <tr>\n",
       "      <th>6</th>\n",
       "      <td>Argentina</td>\n",
       "      <td>6886530.0</td>\n",
       "      <td>138.0</td>\n",
       "      <td>70.150764</td>\n",
       "      <td>124.0</td>\n",
       "      <td>13467.102357</td>\n",
       "      <td>124.0</td>\n",
       "      <td>9.056130</td>\n",
       "      <td>93.0</td>\n",
       "      <td>15.824680</td>\n",
       "      <td>...</td>\n",
       "      <td>NaN</td>\n",
       "      <td>NaN</td>\n",
       "      <td>NaN</td>\n",
       "      <td>NaN</td>\n",
       "      <td>NaN</td>\n",
       "      <td>621457.0</td>\n",
       "      <td>NaN</td>\n",
       "      <td>Latin America &amp; Caribbean</td>\n",
       "      <td>NaN</td>\n",
       "      <td>338.0</td>\n",
       "    </tr>\n",
       "    <tr>\n",
       "      <th>97</th>\n",
       "      <td>Japan</td>\n",
       "      <td>12157426.0</td>\n",
       "      <td>152.0</td>\n",
       "      <td>92.000000</td>\n",
       "      <td>171.0</td>\n",
       "      <td>34474.137360</td>\n",
       "      <td>150.0</td>\n",
       "      <td>NaN</td>\n",
       "      <td>NaN</td>\n",
       "      <td>9.457580</td>\n",
       "      <td>...</td>\n",
       "      <td>NaN</td>\n",
       "      <td>NaN</td>\n",
       "      <td>NaN</td>\n",
       "      <td>NaN</td>\n",
       "      <td>NaN</td>\n",
       "      <td>NaN</td>\n",
       "      <td>NaN</td>\n",
       "      <td>NaN</td>\n",
       "      <td>NaN</td>\n",
       "      <td>338.0</td>\n",
       "    </tr>\n",
       "    <tr>\n",
       "      <th>208</th>\n",
       "      <td>South Africa</td>\n",
       "      <td>9998431.0</td>\n",
       "      <td>151.0</td>\n",
       "      <td>54.000000</td>\n",
       "      <td>92.5</td>\n",
       "      <td>5773.483132</td>\n",
       "      <td>89.0</td>\n",
       "      <td>8.222196</td>\n",
       "      <td>91.0</td>\n",
       "      <td>18.044371</td>\n",
       "      <td>...</td>\n",
       "      <td>2539631.0</td>\n",
       "      <td>2496089.0</td>\n",
       "      <td>2306826.0</td>\n",
       "      <td>NaN</td>\n",
       "      <td>2226167.0</td>\n",
       "      <td>2168862.0</td>\n",
       "      <td>NaN</td>\n",
       "      <td>Sub-Saharan Africa</td>\n",
       "      <td>NaN</td>\n",
       "      <td>337.5</td>\n",
       "    </tr>\n",
       "    <tr>\n",
       "      <th>49</th>\n",
       "      <td>Germany</td>\n",
       "      <td>8682394.0</td>\n",
       "      <td>144.0</td>\n",
       "      <td>89.647101</td>\n",
       "      <td>166.0</td>\n",
       "      <td>41323.921502</td>\n",
       "      <td>159.0</td>\n",
       "      <td>59.640266</td>\n",
       "      <td>144.0</td>\n",
       "      <td>10.398110</td>\n",
       "      <td>...</td>\n",
       "      <td>NaN</td>\n",
       "      <td>NaN</td>\n",
       "      <td>NaN</td>\n",
       "      <td>NaN</td>\n",
       "      <td>NaN</td>\n",
       "      <td>NaN</td>\n",
       "      <td>NaN</td>\n",
       "      <td>NaN</td>\n",
       "      <td>NaN</td>\n",
       "      <td>332.0</td>\n",
       "    </tr>\n",
       "    <tr>\n",
       "      <th>10</th>\n",
       "      <td>Australia</td>\n",
       "      <td>2914620.0</td>\n",
       "      <td>109.0</td>\n",
       "      <td>88.238658</td>\n",
       "      <td>163.0</td>\n",
       "      <td>56554.038761</td>\n",
       "      <td>172.0</td>\n",
       "      <td>NaN</td>\n",
       "      <td>NaN</td>\n",
       "      <td>14.327600</td>\n",
       "      <td>...</td>\n",
       "      <td>NaN</td>\n",
       "      <td>NaN</td>\n",
       "      <td>NaN</td>\n",
       "      <td>NaN</td>\n",
       "      <td>NaN</td>\n",
       "      <td>NaN</td>\n",
       "      <td>NaN</td>\n",
       "      <td>NaN</td>\n",
       "      <td>NaN</td>\n",
       "      <td>332.0</td>\n",
       "    </tr>\n",
       "    <tr>\n",
       "      <th>81</th>\n",
       "      <td>Hong Kong SAR, China</td>\n",
       "      <td>856743.0</td>\n",
       "      <td>64.0</td>\n",
       "      <td>87.300343</td>\n",
       "      <td>161.0</td>\n",
       "      <td>42351.024596</td>\n",
       "      <td>160.0</td>\n",
       "      <td>60.498825</td>\n",
       "      <td>145.0</td>\n",
       "      <td>20.150511</td>\n",
       "      <td>...</td>\n",
       "      <td>NaN</td>\n",
       "      <td>NaN</td>\n",
       "      <td>NaN</td>\n",
       "      <td>NaN</td>\n",
       "      <td>NaN</td>\n",
       "      <td>NaN</td>\n",
       "      <td>NaN</td>\n",
       "      <td>NaN</td>\n",
       "      <td>NaN</td>\n",
       "      <td>329.0</td>\n",
       "    </tr>\n",
       "  </tbody>\n",
       "</table>\n",
       "<p>10 rows × 64 columns</p>\n",
       "</div>"
      ],
      "text/plain": [
       "             Country Name  pop1524TotalByCountry  Rg_pop1524TotalByCountry  \\\n",
       "136              Malaysia              5332642.0                     130.0   \n",
       "67         United Kingdom              7731522.0                     142.0   \n",
       "123                Mexico             20336734.0                     156.0   \n",
       "198         United States             45147517.0                     163.0   \n",
       "6               Argentina              6886530.0                     138.0   \n",
       "97                  Japan             12157426.0                     152.0   \n",
       "208          South Africa              9998431.0                     151.0   \n",
       "49                Germany              8682394.0                     144.0   \n",
       "10              Australia              2914620.0                     109.0   \n",
       "81   Hong Kong SAR, China               856743.0                      64.0   \n",
       "\n",
       "     InternetUserPer100  Rg_InternetUserPer100    PibHabitat  Rg_PibHabitat  \\\n",
       "136           78.788310                  145.0   9648.553455          113.0   \n",
       "67            94.775801                  175.0  44305.554632          164.0   \n",
       "123           59.540446                  104.0   9152.872306          109.0   \n",
       "198           76.176737                  137.0  56469.008969          171.0   \n",
       "6             70.150764                  124.0  13467.102357          124.0   \n",
       "97            92.000000                  171.0  34474.137360          150.0   \n",
       "208           54.000000                   92.5   5773.483132           89.0   \n",
       "49            89.647101                  166.0  41323.921502          159.0   \n",
       "10            88.238658                  163.0  56554.038761          172.0   \n",
       "81            87.300343                  161.0  42351.024596          160.0   \n",
       "\n",
       "     PersonWithPc  Rg_PersonWithPc  EducationExpenditure  ...       2010  \\\n",
       "136     21.668920            123.0             18.406231  ...  1399849.0   \n",
       "67      75.730518            150.0             12.952480  ...        NaN   \n",
       "123     12.643158            103.0             19.429090  ...  5732686.0   \n",
       "198     77.272444            151.0             13.055140  ...        NaN   \n",
       "6        9.056130             93.0             15.824680  ...        NaN   \n",
       "97            NaN              NaN              9.457580  ...        NaN   \n",
       "208      8.222196             91.0             18.044371  ...  2539631.0   \n",
       "49      59.640266            144.0             10.398110  ...        NaN   \n",
       "10            NaN              NaN             14.327600  ...        NaN   \n",
       "81      60.498825            145.0             20.150511  ...        NaN   \n",
       "\n",
       "          2011       2012       2013       2014       2015 2016  \\\n",
       "136        NaN        NaN        NaN        NaN        NaN  NaN   \n",
       "67         NaN        NaN        NaN        NaN        NaN  NaN   \n",
       "123  5481717.0  4967269.0  5313960.0  4879200.0  5055690.0  NaN   \n",
       "198        NaN        NaN        NaN        NaN        NaN  NaN   \n",
       "6          NaN        NaN        NaN        NaN   621457.0  NaN   \n",
       "97         NaN        NaN        NaN        NaN        NaN  NaN   \n",
       "208  2496089.0  2306826.0        NaN  2226167.0  2168862.0  NaN   \n",
       "49         NaN        NaN        NaN        NaN        NaN  NaN   \n",
       "10         NaN        NaN        NaN        NaN        NaN  NaN   \n",
       "81         NaN        NaN        NaN        NaN        NaN  NaN   \n",
       "\n",
       "                        Region  Rg_Total_Plan_A  Rg_Total_Plan_B  \n",
       "136        East Asia & Pacific              NaN            372.0  \n",
       "67                         NaN              NaN            367.0  \n",
       "123  Latin America & Caribbean            633.0            361.0  \n",
       "198                        NaN            756.0            353.0  \n",
       "6    Latin America & Caribbean              NaN            338.0  \n",
       "97                         NaN              NaN            338.0  \n",
       "208         Sub-Saharan Africa              NaN            337.5  \n",
       "49                         NaN              NaN            332.0  \n",
       "10                         NaN              NaN            332.0  \n",
       "81                         NaN              NaN            329.0  \n",
       "\n",
       "[10 rows x 64 columns]"
      ]
     },
     "execution_count": 128,
     "metadata": {},
     "output_type": "execute_result"
    }
   ],
   "source": [
    "final_result.sort_values(by='Rg_Total_Plan_B', inplace= True, ascending=False)\n",
    "final_result.head(10)"
   ]
  },
  {
   "cell_type": "code",
   "execution_count": 129,
   "metadata": {},
   "outputs": [],
   "source": [
    "dfs = [dataframe_pays,pop1524TotalByCountry, InternetUserPer100, PersonWithPc, EducationExpenditure,TauxScolarisationSecSup,AdultIlliterate15Plus]\n",
    "result = reduce(lambda left,right: pd.merge(left,right,on='Country Name',how='left'), dfs)"
   ]
  },
  {
   "cell_type": "markdown",
   "metadata": {},
   "source": [
    "### Evolution du potentiel marché e-learning"
   ]
  },
  {
   "cell_type": "code",
   "execution_count": 130,
   "metadata": {},
   "outputs": [],
   "source": [
    "InternetUserPer100 = extract_indicateur(\"Internet users (per 100 people)\", \"country\")\n",
    "pop1524TotalByCountry = extract_indicateur(\"Population, ages 15-24, total\", \"country\")\n",
    "PibHabitat = extract_indicateur(\"GDP per capita (current US$)\", \"country\")\n",
    "PersonWithPc = extract_indicateur(\"Personal computers (per 100 people)\", \"country\")\n",
    "EducationExpenditure = extract_indicateur(\"Expenditure on education as % of total government expenditure (%)\", \"country\")\n",
    "TauxScolarisationSecSup = extract_indicateur(\"Adjusted net enrolment rate, upper secondary, male (%)\", \"country\")\n",
    "teacherAnnualSalary = extract_indicateur(\"Annual statutory teacher salaries in public institutions in USD. Upper Secondary. Starting salary\",\"country\")\n",
    "Adultliterate15Plus = extract_indicateur(\"Adult literacy rate, population 15+ years, both sexes (%)\",\"country\")"
   ]
  },
  {
   "cell_type": "code",
   "execution_count": 164,
   "metadata": {},
   "outputs": [
    {
     "data": {
      "image/png": "[encoded data removed]",
      "text/plain": [
       "<Figure size 720x504 with 1 Axes>"
      ]
     },
     "metadata": {
      "needs_background": "light"
     },
     "output_type": "display_data"
    }
   ],
   "source": [
    "fig = plt.figure(figsize=(10, 7))\n",
    "fig.suptitle(\"Evolution de nombre d'utilisateurs internet des pays choisis\", fontsize  = 14)\n",
    "Date_Deb = datetime.strptime('2000-01-01','%Y-%m-%d')\n",
    "Date_Fin= datetime.strptime('2009-12-31','%Y-%m-%d')\n",
    "annees_ref = pd.date_range(Date_Deb,Date_Fin,freq='Y')\n",
    "\n",
    "Etats_unis   = InternetUserPer100[InternetUserPer100['Country Name'] == 'United States'].loc[:,'2000':'2009']\n",
    "Royaume_unis = InternetUserPer100[InternetUserPer100['Country Name'] == 'United Kingdom'].loc[:,'2000':'2009']\n",
    "France       = InternetUserPer100[InternetUserPer100['Country Name'] == 'France'].loc[:,'2000':'2009']\n",
    "Espagne      = InternetUserPer100[InternetUserPer100['Country Name'] == 'Spain'].loc[:,'2000':'2009']\n",
    "Chine        = InternetUserPer100[InternetUserPer100['Country Name'] == 'China'].loc[:,'2000':'2009']\n",
    "Japon        = InternetUserPer100[InternetUserPer100['Country Name'] == 'Japan'].loc[:,'2000':'2009']\n",
    "Argentina    = InternetUserPer100[InternetUserPer100['Country Name'] == 'Argentina'].loc[:,'2000':'2009']\n",
    "Malaysia     = InternetUserPer100[InternetUserPer100['Country Name'] == 'Malaysia'].loc[:,'2000':'2009']\n",
    "Mexico       = InternetUserPer100[InternetUserPer100['Country Name'] == 'Mexico'].loc[:,'2000':'2009']\n",
    "South_Africa = InternetUserPer100[InternetUserPer100['Country Name'] == 'South Africa'].loc[:,'2000':'2009']\n",
    "\n",
    "\n",
    "plt.plot(annees_ref,Etats_unis.T,linewidth = 3.0, label='Etats_unis')\n",
    "plt.plot(annees_ref,Royaume_unis.T,linewidth = 3.0, label='Royaume_unis')\n",
    "\n",
    "plt.plot(annees_ref,France.T,linewidth = 3.0, label='France')\n",
    "plt.plot(annees_ref,Espagne.T,linewidth = 3.0, label='Espagne')\n",
    "\n",
    "plt.plot(annees_ref,Chine.T,linewidth = 3.0, label='Chine')\n",
    "plt.plot(annees_ref,Japon.T,linewidth = 3.0, label='Japon')\n",
    "plt.plot(annees_ref,Argentina.T,linewidth = 3.0, label='Argentina')\n",
    "plt.plot(annees_ref,Malaysia.T,linewidth = 3.0, label='Malaysia')\n",
    "plt.plot(annees_ref,Mexico.T,linewidth = 3.0, label='Mexico')\n",
    "plt.plot(annees_ref,South_Africa.T,linewidth = 3.0, label='Afrique de Sud')\n",
    "\n",
    "\n",
    "plt.xlabel('Année')\n",
    "plt.ylabel('Nb utilisateur internet')\n",
    "\n",
    "leg = plt.legend(loc='upper center', ncol=2, mode=\"expand\", shadow=True, fancybox=False)\n",
    "leg.get_frame().set_alpha(0.5)\n",
    "plt.show()"
   ]
  },
  {
   "cell_type": "code",
   "execution_count": 165,
   "metadata": {},
   "outputs": [
    {
     "data": {
      "image/png": "[encoded data removed]",
      "text/plain": [
       "<Figure size 720x504 with 1 Axes>"
      ]
     },
     "metadata": {
      "needs_background": "light"
     },
     "output_type": "display_data"
    }
   ],
   "source": [
    "fig = plt.figure(figsize=(10, 7))\n",
    "fig.suptitle(\"Evolution de nombre de personnes ayant un pc dans la liste des pays choisis\", fontsize  = 14)\n",
    "Date_Deb = datetime.strptime('2000-01-01','%Y-%m-%d')\n",
    "Date_Fin= datetime.strptime('2009-12-31','%Y-%m-%d')\n",
    "annees_ref = pd.date_range(Date_Deb,Date_Fin,freq='Y')\n",
    "\n",
    "Etats_unis   = PersonWithPc[PersonWithPc['Country Name'] == 'United States'].loc[:,'2000':'2009']\n",
    "Royaume_unis = PersonWithPc[PersonWithPc['Country Name'] == 'United Kingdom'].loc[:,'2000':'2009']\n",
    "France       = PersonWithPc[PersonWithPc['Country Name'] == 'France'].loc[:,'2000':'2009']\n",
    "Espagne      = PersonWithPc[PersonWithPc['Country Name'] == 'Spain'].loc[:,'2000':'2009']\n",
    "Chine        = PersonWithPc[PersonWithPc['Country Name'] == 'China'].loc[:,'2000':'2009']\n",
    "Japon        = PersonWithPc[PersonWithPc['Country Name'] == 'Japan'].loc[:,'2000':'2009']\n",
    "Argentina    = PersonWithPc[PersonWithPc['Country Name'] == 'Argentina'].loc[:,'2000':'2009']\n",
    "Malaysia     = PersonWithPc[PersonWithPc['Country Name'] == 'Malaysia'].loc[:,'2000':'2009']\n",
    "Mexico       = PersonWithPc[PersonWithPc['Country Name'] == 'Mexico'].loc[:,'2000':'2009']\n",
    "South_Africa = PersonWithPc[PersonWithPc['Country Name'] == 'South Africa'].loc[:,'2000':'2009']\n",
    "\n",
    "\n",
    "plt.plot(annees_ref,Etats_unis.T,linewidth = 3.0, label='Etats_unis')\n",
    "plt.plot(annees_ref,Royaume_unis.T,linewidth = 3.0, label='Royaume_unis')\n",
    "\n",
    "plt.plot(annees_ref,France.T,linewidth = 3.0, label='France')\n",
    "plt.plot(annees_ref,Espagne.T,linewidth = 3.0, label='Espagne')\n",
    "\n",
    "plt.plot(annees_ref,Chine.T,linewidth = 3.0, label='Chine')\n",
    "plt.plot(annees_ref,Japon.T,linewidth = 3.0, label='Japon')\n",
    "plt.plot(annees_ref,Argentina.T,linewidth = 3.0, label='Argentina')\n",
    "plt.plot(annees_ref,Malaysia.T,linewidth = 3.0, label='Malaysia')\n",
    "plt.plot(annees_ref,Mexico.T,linewidth = 3.0, label='Mexico')\n",
    "plt.plot(annees_ref,South_Africa.T,linewidth = 3.0, label='Afrique de Sud')\n",
    "\n",
    "\n",
    "plt.xlabel('Année')\n",
    "plt.ylabel('Nb utilisateur internet')\n",
    "\n",
    "leg = plt.legend(loc='upper center', ncol=2, mode=\"expand\", shadow=True, fancybox=False)\n",
    "leg.get_frame().set_alpha(0.5)\n",
    "plt.show()"
   ]
  },
  {
   "cell_type": "code",
   "execution_count": 166,
   "metadata": {},
   "outputs": [
    {
     "data": {
      "image/png": "[encoded data removed]",
      "text/plain": [
       "<Figure size 720x504 with 1 Axes>"
      ]
     },
     "metadata": {
      "needs_background": "light"
     },
     "output_type": "display_data"
    }
   ],
   "source": [
    "fig = plt.figure(figsize=(10, 7))\n",
    "fig.suptitle(\"Evolution de la population de 15-24 ans des pays choisis\", fontsize  = 14)\n",
    "Date_Deb = datetime.strptime('2000-01-01','%Y-%m-%d')\n",
    "Date_Fin= datetime.strptime('2009-12-31','%Y-%m-%d')\n",
    "annees_ref = pd.date_range(Date_Deb,Date_Fin,freq='Y')\n",
    "\n",
    "Etats_unis   = pop1524TotalByCountry[pop1524TotalByCountry['Country Name'] == 'United States'].loc[:,'2000':'2009']\n",
    "Royaume_unis = pop1524TotalByCountry[pop1524TotalByCountry['Country Name'] == 'United Kingdom'].loc[:,'2000':'2009']\n",
    "France       = pop1524TotalByCountry[pop1524TotalByCountry['Country Name'] == 'France'].loc[:,'2000':'2009']\n",
    "Espagne      = pop1524TotalByCountry[pop1524TotalByCountry['Country Name'] == 'Spain'].loc[:,'2000':'2009']\n",
    "Chine        = pop1524TotalByCountry[pop1524TotalByCountry['Country Name'] == 'China'].loc[:,'2000':'2009']\n",
    "Japon        = pop1524TotalByCountry[pop1524TotalByCountry['Country Name'] == 'Japan'].loc[:,'2000':'2009']\n",
    "Argentina    = pop1524TotalByCountry[pop1524TotalByCountry['Country Name'] == 'Argentina'].loc[:,'2000':'2009']\n",
    "Malaysia     = pop1524TotalByCountry[pop1524TotalByCountry['Country Name'] == 'Malaysia'].loc[:,'2000':'2009']\n",
    "Mexico       = pop1524TotalByCountry[pop1524TotalByCountry['Country Name'] == 'Mexico'].loc[:,'2000':'2009']\n",
    "South_Africa = pop1524TotalByCountry[pop1524TotalByCountry['Country Name'] == 'South Africa'].loc[:,'2000':'2009']\n",
    "\n",
    "plt.plot(annees_ref,Etats_unis.T,linewidth = 3.0, label='Etats_unis')\n",
    "plt.plot(annees_ref,Royaume_unis.T,linewidth = 3.0, label='Royaume_unis')\n",
    "\n",
    "plt.plot(annees_ref,France.T,linewidth = 3.0, label='France')\n",
    "plt.plot(annees_ref,Espagne.T,linewidth = 3.0, label='Espagne')\n",
    "\n",
    "plt.plot(annees_ref,Chine.T,linewidth = 3.0, label='Chine')\n",
    "plt.plot(annees_ref,Japon.T,linewidth = 3.0, label='Japon')\n",
    "plt.plot(annees_ref,Argentina.T,linewidth = 3.0, label='Argentina')\n",
    "plt.plot(annees_ref,Malaysia.T,linewidth = 3.0, label='Malaysia')\n",
    "plt.plot(annees_ref,Mexico.T,linewidth = 3.0, label='Mexico')\n",
    "plt.plot(annees_ref,South_Africa.T,linewidth = 3.0, label='Afrique de Sud')\n",
    "\n",
    "plt.xlabel('Année')\n",
    "plt.ylabel('Population de 15-24 ans des pays choisis')\n",
    "\n",
    "leg = plt.legend(loc='upper center', ncol=2, mode=\"expand\", shadow=True, fancybox=False)\n",
    "leg.get_frame().set_alpha(0.5)\n",
    "plt.show()"
   ]
  },
  {
   "cell_type": "code",
   "execution_count": 134,
   "metadata": {},
   "outputs": [
    {
     "data": {
      "image/png": "[encoded data removed]",
      "text/plain": [
       "<Figure size 720x504 with 1 Axes>"
      ]
     },
     "metadata": {
      "needs_background": "light"
     },
     "output_type": "display_data"
    }
   ],
   "source": [
    "fig = plt.figure(figsize=(10, 7))\n",
    "fig.suptitle(\"Evolution de dépenses des gouvernements en éducation des pays choisis\", fontsize  = 14)\n",
    "Date_Deb = datetime.strptime('2000-01-01','%Y-%m-%d')\n",
    "Date_Fin= datetime.strptime('2009-12-31','%Y-%m-%d')\n",
    "annees_ref = pd.date_range(Date_Deb,Date_Fin,freq='Y')\n",
    "\n",
    "Etats_unis   = EducationExpenditure[EducationExpenditure['Country Name'] == 'United States'].loc[:,'2000':'2009']\n",
    "Royaume_unis = EducationExpenditure[EducationExpenditure['Country Name'] == 'United Kingdom'].loc[:,'2000':'2009']\n",
    "France       = EducationExpenditure[EducationExpenditure['Country Name'] == 'France'].loc[:,'2000':'2009']\n",
    "Espagne      = EducationExpenditure[EducationExpenditure['Country Name'] == 'Spain'].loc[:,'2000':'2009']\n",
    "Chine        = EducationExpenditure[EducationExpenditure['Country Name'] == 'China'].loc[:,'2000':'2009']\n",
    "Japon        = EducationExpenditure[EducationExpenditure['Country Name'] == 'Japan'].loc[:,'2000':'2009']\n",
    "Argentina    = EducationExpenditure[EducationExpenditure['Country Name'] == 'Argentina'].loc[:,'2000':'2009']\n",
    "Malaysia     = EducationExpenditure[EducationExpenditure['Country Name'] == 'Malaysia'].loc[:,'2000':'2009']\n",
    "Mexico       = EducationExpenditure[EducationExpenditure['Country Name'] == 'Mexico'].loc[:,'2000':'2009']\n",
    "South_Africa = EducationExpenditure[EducationExpenditure['Country Name'] == 'South Africa'].loc[:,'2000':'2009']\n",
    "\n",
    "\n",
    "plt.plot(annees_ref,Etats_unis.T,linewidth = 3.0, label='Etats_unis')\n",
    "plt.plot(annees_ref,Royaume_unis.T,linewidth = 3.0, label='Royaume_unis')\n",
    "\n",
    "plt.plot(annees_ref,France.T,linewidth = 3.0, label='France')\n",
    "plt.plot(annees_ref,Espagne.T,linewidth = 3.0, label='Espagne')\n",
    "\n",
    "plt.plot(annees_ref,Chine.T,linewidth = 3.0, label='Chine')\n",
    "plt.plot(annees_ref,Japon.T,linewidth = 3.0, label='Japon')\n",
    "plt.plot(annees_ref,Argentina.T,linewidth = 3.0, label='Argentina')\n",
    "plt.plot(annees_ref,Malaysia.T,linewidth = 3.0, label='Malaysia')\n",
    "plt.plot(annees_ref,Mexico.T,linewidth = 3.0, label='Mexico')\n",
    "plt.plot(annees_ref,South_Africa.T,linewidth = 3.0, label='Afrique de Sud')\n",
    "\n",
    "plt.xlabel('Année')\n",
    "plt.ylabel('Dépenses des gouvernements en éducation')\n",
    "\n",
    "leg = plt.legend(loc='upper center', ncol=2, mode=\"expand\", shadow=True, fancybox=False)\n",
    "leg.get_frame().set_alpha(0.5)\n",
    "plt.show()"
   ]
  },
  {
   "cell_type": "code",
   "execution_count": 135,
   "metadata": {},
   "outputs": [
    {
     "data": {
      "image/png": "[encoded data removed]",
      "text/plain": [
       "<Figure size 720x504 with 1 Axes>"
      ]
     },
     "metadata": {
      "needs_background": "light"
     },
     "output_type": "display_data"
    }
   ],
   "source": [
    "fig = plt.figure(figsize=(10, 7))\n",
    "fig.suptitle(\"Evolution de Pib par habitat des pays choisis\", fontsize  = 14)\n",
    "Date_Deb = datetime.strptime('2000-01-01','%Y-%m-%d')\n",
    "Date_Fin= datetime.strptime('2009-12-31','%Y-%m-%d')\n",
    "annees_ref = pd.date_range(Date_Deb,Date_Fin,freq='Y')\n",
    "\n",
    "Etats_unis   = PibHabitat[PibHabitat['Country Name'] == 'United States'].loc[:,'2000':'2009']\n",
    "Royaume_unis = PibHabitat[PibHabitat['Country Name'] == 'United Kingdom'].loc[:,'2000':'2009']\n",
    "France       = PibHabitat[PibHabitat['Country Name'] == 'France'].loc[:,'2000':'2009']\n",
    "Espagne      = PibHabitat[PibHabitat['Country Name'] == 'Spain'].loc[:,'2000':'2009']\n",
    "Chine        = PibHabitat[PibHabitat['Country Name'] == 'China'].loc[:,'2000':'2009']\n",
    "Japon        = PibHabitat[PibHabitat['Country Name'] == 'Japan'].loc[:,'2000':'2009']\n",
    "Argentina    = PibHabitat[PibHabitat['Country Name'] == 'Argentina'].loc[:,'2000':'2009']\n",
    "Malaysia     = PibHabitat[PibHabitat['Country Name'] == 'Malaysia'].loc[:,'2000':'2009']\n",
    "Mexico       = PibHabitat[PibHabitat['Country Name'] == 'Mexico'].loc[:,'2000':'2009']\n",
    "South_Africa = PibHabitat[PibHabitat['Country Name'] == 'South Africa'].loc[:,'2000':'2009']\n",
    "\n",
    "plt.plot(annees_ref,Etats_unis.T,linewidth = 3.0, label='Etats_unis')\n",
    "plt.plot(annees_ref,Royaume_unis.T,linewidth = 3.0, label='Royaume_unis')\n",
    "\n",
    "plt.plot(annees_ref,France.T,linewidth = 3.0, label='France')\n",
    "plt.plot(annees_ref,Espagne.T,linewidth = 3.0, label='Espagne')\n",
    "\n",
    "plt.plot(annees_ref,Chine.T,linewidth = 3.0, label='Chine')\n",
    "plt.plot(annees_ref,Japon.T,linewidth = 3.0, label='Japon')\n",
    "plt.plot(annees_ref,Argentina.T,linewidth = 3.0, label='Argentina')\n",
    "plt.plot(annees_ref,Malaysia.T,linewidth = 3.0, label='Malaysia')\n",
    "plt.plot(annees_ref,Mexico.T,linewidth = 3.0, label='Mexico')\n",
    "plt.plot(annees_ref,South_Africa.T,linewidth = 3.0, label='Afrique de Sud')\n",
    "\n",
    "plt.xlabel('Année')\n",
    "plt.ylabel('Pib par habitat')\n",
    "\n",
    "leg = plt.legend(loc='upper center', ncol=2, mode=\"expand\", shadow=True, fancybox=False)\n",
    "leg.get_frame().set_alpha(0.5)\n",
    "plt.show()"
   ]
  },
  {
   "cell_type": "code",
   "execution_count": 136,
   "metadata": {},
   "outputs": [
    {
     "data": {
      "text/html": [
       "<div>\n",
       "<style scoped>\n",
       "    .dataframe tbody tr th:only-of-type {\n",
       "        vertical-align: middle;\n",
       "    }\n",
       "\n",
       "    .dataframe tbody tr th {\n",
       "        vertical-align: top;\n",
       "    }\n",
       "\n",
       "    .dataframe thead th {\n",
       "        text-align: right;\n",
       "    }\n",
       "</style>\n",
       "<table border=\"1\" class=\"dataframe\">\n",
       "  <thead>\n",
       "    <tr style=\"text-align: right;\">\n",
       "      <th></th>\n",
       "      <th>2000</th>\n",
       "      <th>2001</th>\n",
       "      <th>2002</th>\n",
       "      <th>2003</th>\n",
       "      <th>2004</th>\n",
       "      <th>2005</th>\n",
       "      <th>2006</th>\n",
       "      <th>2007</th>\n",
       "      <th>2008</th>\n",
       "      <th>2009</th>\n",
       "    </tr>\n",
       "  </thead>\n",
       "  <tbody>\n",
       "    <tr>\n",
       "      <th>13</th>\n",
       "      <td>22358.454191</td>\n",
       "      <td>24015.623735</td>\n",
       "      <td>25562.512261</td>\n",
       "      <td>26034.58089</td>\n",
       "      <td>25927.575683</td>\n",
       "      <td>25960.40181</td>\n",
       "      <td>26045.008721</td>\n",
       "      <td>26293.989071</td>\n",
       "      <td>26400.451569</td>\n",
       "      <td>27584.565698</td>\n",
       "    </tr>\n",
       "  </tbody>\n",
       "</table>\n",
       "</div>"
      ],
      "text/plain": [
       "            2000          2001          2002         2003          2004  \\\n",
       "13  22358.454191  24015.623735  25562.512261  26034.58089  25927.575683   \n",
       "\n",
       "           2005          2006          2007          2008          2009  \n",
       "13  25960.40181  26045.008721  26293.989071  26400.451569  27584.565698  "
      ]
     },
     "execution_count": 136,
     "metadata": {},
     "output_type": "execute_result"
    }
   ],
   "source": [
    "teacherAnnualSalary[teacherAnnualSalary['Country Name'] == 'France'].loc[:,'2000':'2009']"
   ]
  },
  {
   "cell_type": "code",
   "execution_count": 137,
   "metadata": {},
   "outputs": [
    {
     "data": {
      "image/png": "[encoded data removed]",
      "text/plain": [
       "<Figure size 720x504 with 1 Axes>"
      ]
     },
     "metadata": {
      "needs_background": "light"
     },
     "output_type": "display_data"
    }
   ],
   "source": [
    "fig = plt.figure(figsize=(10, 7))\n",
    "fig.suptitle(\"Evolution de taux de scolarisation secondaire et supérieure dans les pays choisis\", fontsize  = 14)\n",
    "Date_Deb = datetime.strptime('2000-01-01','%Y-%m-%d')\n",
    "Date_Fin= datetime.strptime('2009-12-31','%Y-%m-%d')\n",
    "annees_ref = pd.date_range(Date_Deb,Date_Fin,freq='Y')\n",
    "\n",
    "Etats_unis   = teacherAnnualSalary[teacherAnnualSalary['Country Name'] == 'United States'].loc[:,'2000':'2009']\n",
    "#Royaume_unis = teacherAnnualSalary[teacherAnnualSalary['Country Name'] == 'United Kingdom'].loc[:,'2000':'2009']\n",
    "France       = teacherAnnualSalary[teacherAnnualSalary['Country Name'] == 'France'].loc[:,'2000':'2009']\n",
    "Espagne      = teacherAnnualSalary[teacherAnnualSalary['Country Name'] == 'Spain'].loc[:,'2000':'2009']\n",
    "Chine        = teacherAnnualSalary[teacherAnnualSalary['Country Name'] == 'China'].loc[:,'2000':'2009']\n",
    "Japon        = teacherAnnualSalary[teacherAnnualSalary['Country Name'] == 'Japan'].loc[:,'2000':'2009']\n",
    "Argentina    = teacherAnnualSalary[teacherAnnualSalary['Country Name'] == 'Argentina'].loc[:,'2000':'2009']\n",
    "Malaysia     = teacherAnnualSalary[teacherAnnualSalary['Country Name'] == 'Malaysia'].loc[:,'2000':'2009']\n",
    "Mexico       = teacherAnnualSalary[teacherAnnualSalary['Country Name'] == 'Mexico'].loc[:,'2000':'2009']\n",
    "#South_Africa = teacherAnnualSalary[teacherAnnualSalary['Country Name'] == 'South Africa'].loc[:,'2000':'2009']\n",
    "\n",
    "plt.plot(annees_ref,Etats_unis.T,linewidth = 3.0, label='Etats_unis')\n",
    "#plt.plot(annees_ref,Royaume_unis.T,linewidth = 3.0, label='Royaume_unis')\n",
    "\n",
    "plt.plot(annees_ref,France.T,linewidth = 3.0, label='France')\n",
    "plt.plot(annees_ref,Espagne.T,linewidth = 3.0, label='Espagne')\n",
    "\n",
    "plt.plot(annees_ref,Chine.T,linewidth = 3.0, label='Chine')\n",
    "plt.plot(annees_ref,Japon.T,linewidth = 3.0, label='Japon')\n",
    "plt.plot(annees_ref,Argentina.T,linewidth = 3.0, label='Argentina')\n",
    "plt.plot(annees_ref,Malaysia.T,linewidth = 3.0, label='Malaysia')\n",
    "plt.plot(annees_ref,Mexico.T,linewidth = 3.0, label='Mexico')\n",
    "#plt.plot(annees_ref,South_Africa.T,linewidth = 3.0, label='Afrique de Sud')\n",
    "\n",
    "plt.xlabel('Année')\n",
    "plt.ylabel('Taux scolarisation secondaire et supérieure')\n",
    "\n",
    "leg = plt.legend(loc='upper center', ncol=2, mode=\"expand\", shadow=True, fancybox=False)\n",
    "leg.get_frame().set_alpha(0.5)\n",
    "plt.show()"
   ]
  },
  {
   "cell_type": "markdown",
   "metadata": {},
   "source": [
    "# 5 Conclusion"
   ]
  },
  {
   "cell_type": "markdown",
   "metadata": {},
   "source": [
    "Pour conclure, je recommande Academy de prioriser les pays de la liste A pour tout plans/projets court terme, et garder un oeil sur la liste de pays de plan B car ils présentent un véritable pays à potentiel pour les projet moyen et long terme."
   ]
  }
 ],
 "metadata": {
  "kernelspec": {
   "display_name": "Python 3",
   "language": "python",
   "name": "python3"
  },
  "language_info": {
   "codemirror_mode": {
    "name": "ipython",
    "version": 3
   },
   "file_extension": ".py",
   "mimetype": "text/x-python",
   "name": "python",
   "nbconvert_exporter": "python",
   "pygments_lexer": "ipython3",
   "version": "3.8.3"
  }
 },
 "nbformat": 4,
 "nbformat_minor": 4
}
